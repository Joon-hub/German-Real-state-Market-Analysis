{
 "cells": [
  {
   "cell_type": "markdown",
   "metadata": {},
   "source": [
    "## 1. Importing libraries"
   ]
  },
  {
   "cell_type": "code",
   "execution_count": 1,
   "metadata": {},
   "outputs": [],
   "source": [
    "# import libraries\n",
    "import numpy as np\n",
    "import pandas as pd\n",
    "pd.set_option('display.max_columns', None)\n",
    "import seaborn as sns\n",
    "import matplotlib.pyplot as plt\n",
    "import os\n",
    "\n",
    "import plotly.graph_objects as go\n",
    "from plotly.subplots import make_subplots"
   ]
  },
  {
   "cell_type": "code",
   "execution_count": 2,
   "metadata": {},
   "outputs": [
    {
     "name": "stdout",
     "output_type": "stream",
     "text": [
      "environ({'COMMAND_MODE': 'unix2003', 'CONDA_DEFAULT_ENV': 'joon_data_viz', 'CONDA_EXE': '/opt/anaconda3/bin/conda', 'CONDA_PREFIX': '/opt/anaconda3/envs/joon_data_viz', 'CONDA_PROMPT_MODIFIER': '(joon_data_viz) ', 'CONDA_PYTHON_EXE': '/opt/anaconda3/bin/python', 'CONDA_SHLVL': '2', 'GSETTINGS_SCHEMA_DIR': '/opt/anaconda3/share/glib-2.0/schemas', 'HOME': '/Users/sudhirjoon', 'HOMEBREW_CELLAR': '/opt/homebrew/Cellar', 'HOMEBREW_PREFIX': '/opt/homebrew', 'HOMEBREW_REPOSITORY': '/opt/homebrew', 'INFOPATH': '/opt/homebrew/share/info:', 'LOGNAME': 'sudhirjoon', 'MallocNanoZone': '0', 'OLDPWD': '/', 'ORIGINAL_XDG_CURRENT_DESKTOP': 'undefined', 'PATH': '/opt/anaconda3/envs/joon_data_viz/bin:/opt/anaconda3/condabin:/opt/homebrew/bin:/opt/homebrew/sbin:/usr/local/bin:/System/Cryptexes/App/usr/bin:/usr/bin:/bin:/usr/sbin:/sbin:/var/run/com.apple.security.cryptexd/codex.system/bootstrap/usr/local/bin:/var/run/com.apple.security.cryptexd/codex.system/bootstrap/usr/bin:/var/run/com.apple.security.cryptexd/codex.system/bootstrap/usr/appleinternal/bin:/Users/sudhirjoon/Downloads/Visual Studio Code.app/Contents/Resources/app/bin', 'PWD': '/', 'SHELL': '/bin/zsh', 'SHLVL': '2', 'SSH_AUTH_SOCK': '/private/tmp/com.apple.launchd.lk0K7qBMN5/Listeners', 'TMPDIR': '/var/folders/yj/2fr85zvn2sbbpv3jsq4y3kwh0000gn/T/', 'USER': 'sudhirjoon', 'VSCODE_AMD_ENTRYPOINT': 'vs/workbench/api/node/extensionHostProcess', 'VSCODE_CODE_CACHE_PATH': '/Users/sudhirjoon/Library/Application Support/Code/CachedData/f1b07bd25dfad64b0167beb15359ae573aecd2cc', 'VSCODE_CRASH_REPORTER_PROCESS_TYPE': 'extensionHost', 'VSCODE_CWD': '/', 'VSCODE_HANDLES_UNCAUGHT_ERRORS': 'true', 'VSCODE_IPC_HOOK': '/Users/sudhirjoon/Library/Application Support/Code/1.83-main.sock', 'VSCODE_NLS_CONFIG': '{\"locale\":\"en-gb\",\"osLocale\":\"en-in\",\"availableLanguages\":{},\"_languagePackSupport\":true}', 'VSCODE_PID': '990', 'XPC_FLAGS': '0x0', 'XPC_SERVICE_NAME': '0', '_': '/opt/anaconda3/envs/joon_data_viz/bin/python', '__CFBundleIdentifier': 'com.microsoft.VSCode', '__CF_USER_TEXT_ENCODING': '0x1F5:0x0:0x0', 'ELECTRON_RUN_AS_NODE': '1', 'APPLICATION_INSIGHTS_NO_DIAGNOSTIC_CHANNEL': 'true', 'VSCODE_L10N_BUNDLE_LOCATION': '', 'PYTHONUNBUFFERED': '1', 'PYTHONIOENCODING': 'utf-8', '_CE_CONDA': '', 'CONDA_PREFIX_1': '/opt/anaconda3', 'CONDA_ROOT': '/opt/anaconda3', '_CE_M': '', 'LC_CTYPE': 'UTF-8', 'PYDEVD_IPYTHON_COMPATIBLE_DEBUGGING': '1', 'PYDEVD_USE_FRAME_EVAL': 'NO', 'TERM': 'xterm-color', 'CLICOLOR': '1', 'FORCE_COLOR': '1', 'CLICOLOR_FORCE': '1', 'PAGER': 'cat', 'GIT_PAGER': 'cat', 'MPLBACKEND': 'module://matplotlib_inline.backend_inline'})\n",
      "/opt/anaconda3/envs/joon_data_viz/bin:/opt/anaconda3/condabin:/opt/homebrew/bin:/opt/homebrew/sbin:/usr/local/bin:/System/Cryptexes/App/usr/bin:/usr/bin:/bin:/usr/sbin:/sbin:/var/run/com.apple.security.cryptexd/codex.system/bootstrap/usr/local/bin:/var/run/com.apple.security.cryptexd/codex.system/bootstrap/usr/bin:/var/run/com.apple.security.cryptexd/codex.system/bootstrap/usr/appleinternal/bin:/Users/sudhirjoon/Downloads/Visual Studio Code.app/Contents/Resources/app/bin\n"
     ]
    }
   ],
   "source": [
    "import os\n",
    "\n",
    "# Print all environment variables\n",
    "print(os.environ)\n",
    "\n",
    "# Print a specific environment variable, e.g., PATH\n",
    "print(os.environ.get('PATH'))"
   ]
  },
  {
   "cell_type": "code",
   "execution_count": 3,
   "metadata": {},
   "outputs": [
    {
     "data": {
      "text/plain": [
       "'/Users/sudhirjoon/Library/Mobile Documents/com~apple~CloudDocs/Uni_Mannheim/Sem2/data_visualisation/Joon_project/Notebooks'"
      ]
     },
     "execution_count": 3,
     "metadata": {},
     "output_type": "execute_result"
    }
   ],
   "source": [
    "# checking current working directory\n",
    "os.getcwd()"
   ]
  },
  {
   "cell_type": "markdown",
   "metadata": {},
   "source": [
    "## 2. Import datasets"
   ]
  },
  {
   "cell_type": "code",
   "execution_count": 4,
   "metadata": {},
   "outputs": [],
   "source": [
    "\n",
    "def get_data(name, base_dir=None):\n",
    "    # If base_dir is not provided, use the current working directory\n",
    "    if base_dir is None:\n",
    "        base_dir = os.getcwd()\n",
    "    \n",
    "    # Construct the path to the Data directory\n",
    "    data_dir = os.path.join(base_dir, '..', 'Data')\n",
    "    \n",
    "    # Construct the full file path\n",
    "    file_name = f\"{name}.csv\"\n",
    "    file_path = os.path.join(data_dir, file_name)\n",
    "    \n",
    "    # Check if the file exists\n",
    "    if not os.path.exists(file_path):\n",
    "        raise FileNotFoundError(f\"The file {file_name} does not exist in the specified path.\")\n",
    "    \n",
    "    # Read and return the CSV file\n",
    "    return pd.read_csv(file_path)\n"
   ]
  },
  {
   "cell_type": "code",
   "execution_count": 5,
   "metadata": {},
   "outputs": [
    {
     "name": "stdout",
     "output_type": "stream",
     "text": [
      "(268850, 49)\n",
      "(8170, 6)\n",
      "(12854, 6)\n"
     ]
    }
   ],
   "source": [
    "main_df = get_data('immo_data')\n",
    "plz_df = get_data('plz_einwohner')\n",
    "city_df = get_data('zuordnung_plz_ort')\n",
    "\n",
    "print(main_df.shape)\n",
    "print(plz_df.shape)\n",
    "print(city_df.shape)"
   ]
  },
  {
   "cell_type": "code",
   "execution_count": 6,
   "metadata": {},
   "outputs": [
    {
     "data": {
      "text/html": [
       "<div>\n",
       "<style scoped>\n",
       "    .dataframe tbody tr th:only-of-type {\n",
       "        vertical-align: middle;\n",
       "    }\n",
       "\n",
       "    .dataframe tbody tr th {\n",
       "        vertical-align: top;\n",
       "    }\n",
       "\n",
       "    .dataframe thead th {\n",
       "        text-align: right;\n",
       "    }\n",
       "</style>\n",
       "<table border=\"1\" class=\"dataframe\">\n",
       "  <thead>\n",
       "    <tr style=\"text-align: right;\">\n",
       "      <th></th>\n",
       "      <th>regio1</th>\n",
       "      <th>serviceCharge</th>\n",
       "      <th>heatingType</th>\n",
       "      <th>telekomTvOffer</th>\n",
       "      <th>telekomHybridUploadSpeed</th>\n",
       "      <th>newlyConst</th>\n",
       "      <th>balcony</th>\n",
       "      <th>picturecount</th>\n",
       "      <th>pricetrend</th>\n",
       "      <th>telekomUploadSpeed</th>\n",
       "      <th>totalRent</th>\n",
       "      <th>yearConstructed</th>\n",
       "      <th>scoutId</th>\n",
       "      <th>noParkSpaces</th>\n",
       "      <th>firingTypes</th>\n",
       "      <th>hasKitchen</th>\n",
       "      <th>geo_bln</th>\n",
       "      <th>cellar</th>\n",
       "      <th>yearConstructedRange</th>\n",
       "      <th>baseRent</th>\n",
       "      <th>houseNumber</th>\n",
       "      <th>livingSpace</th>\n",
       "      <th>geo_krs</th>\n",
       "      <th>condition</th>\n",
       "      <th>interiorQual</th>\n",
       "      <th>petsAllowed</th>\n",
       "      <th>street</th>\n",
       "      <th>streetPlain</th>\n",
       "      <th>lift</th>\n",
       "      <th>baseRentRange</th>\n",
       "      <th>typeOfFlat</th>\n",
       "      <th>geo_plz</th>\n",
       "      <th>noRooms</th>\n",
       "      <th>thermalChar</th>\n",
       "      <th>floor</th>\n",
       "      <th>numberOfFloors</th>\n",
       "      <th>noRoomsRange</th>\n",
       "      <th>garden</th>\n",
       "      <th>livingSpaceRange</th>\n",
       "      <th>regio2</th>\n",
       "      <th>regio3</th>\n",
       "      <th>description</th>\n",
       "      <th>facilities</th>\n",
       "      <th>heatingCosts</th>\n",
       "      <th>energyEfficiencyClass</th>\n",
       "      <th>lastRefurbish</th>\n",
       "      <th>electricityBasePrice</th>\n",
       "      <th>electricityKwhPrice</th>\n",
       "      <th>date</th>\n",
       "    </tr>\n",
       "  </thead>\n",
       "  <tbody>\n",
       "    <tr>\n",
       "      <th>0</th>\n",
       "      <td>Nordrhein_Westfalen</td>\n",
       "      <td>245.0</td>\n",
       "      <td>central_heating</td>\n",
       "      <td>ONE_YEAR_FREE</td>\n",
       "      <td>NaN</td>\n",
       "      <td>False</td>\n",
       "      <td>False</td>\n",
       "      <td>6</td>\n",
       "      <td>4.62</td>\n",
       "      <td>10.0</td>\n",
       "      <td>840.0</td>\n",
       "      <td>1965.0</td>\n",
       "      <td>96107057</td>\n",
       "      <td>1.0</td>\n",
       "      <td>oil</td>\n",
       "      <td>False</td>\n",
       "      <td>Nordrhein_Westfalen</td>\n",
       "      <td>True</td>\n",
       "      <td>2.0</td>\n",
       "      <td>595.0</td>\n",
       "      <td>244</td>\n",
       "      <td>86.0</td>\n",
       "      <td>Dortmund</td>\n",
       "      <td>well_kept</td>\n",
       "      <td>normal</td>\n",
       "      <td>NaN</td>\n",
       "      <td>Sch&amp;uuml;ruferstra&amp;szlig;e</td>\n",
       "      <td>Schüruferstraße</td>\n",
       "      <td>False</td>\n",
       "      <td>4</td>\n",
       "      <td>ground_floor</td>\n",
       "      <td>44269</td>\n",
       "      <td>4.0</td>\n",
       "      <td>181.4</td>\n",
       "      <td>1.0</td>\n",
       "      <td>3.0</td>\n",
       "      <td>4</td>\n",
       "      <td>True</td>\n",
       "      <td>4</td>\n",
       "      <td>Dortmund</td>\n",
       "      <td>Schüren</td>\n",
       "      <td>Die ebenerdig zu erreichende Erdgeschosswohnun...</td>\n",
       "      <td>Die Wohnung ist mit Laminat ausgelegt. Das Bad...</td>\n",
       "      <td>NaN</td>\n",
       "      <td>NaN</td>\n",
       "      <td>NaN</td>\n",
       "      <td>NaN</td>\n",
       "      <td>NaN</td>\n",
       "      <td>May19</td>\n",
       "    </tr>\n",
       "    <tr>\n",
       "      <th>1</th>\n",
       "      <td>Rheinland_Pfalz</td>\n",
       "      <td>134.0</td>\n",
       "      <td>self_contained_central_heating</td>\n",
       "      <td>ONE_YEAR_FREE</td>\n",
       "      <td>NaN</td>\n",
       "      <td>False</td>\n",
       "      <td>True</td>\n",
       "      <td>8</td>\n",
       "      <td>3.47</td>\n",
       "      <td>10.0</td>\n",
       "      <td>NaN</td>\n",
       "      <td>1871.0</td>\n",
       "      <td>111378734</td>\n",
       "      <td>2.0</td>\n",
       "      <td>gas</td>\n",
       "      <td>False</td>\n",
       "      <td>Rheinland_Pfalz</td>\n",
       "      <td>False</td>\n",
       "      <td>1.0</td>\n",
       "      <td>800.0</td>\n",
       "      <td>NaN</td>\n",
       "      <td>89.0</td>\n",
       "      <td>Rhein_Pfalz_Kreis</td>\n",
       "      <td>refurbished</td>\n",
       "      <td>normal</td>\n",
       "      <td>no</td>\n",
       "      <td>no_information</td>\n",
       "      <td>NaN</td>\n",
       "      <td>False</td>\n",
       "      <td>5</td>\n",
       "      <td>ground_floor</td>\n",
       "      <td>67459</td>\n",
       "      <td>3.0</td>\n",
       "      <td>NaN</td>\n",
       "      <td>NaN</td>\n",
       "      <td>NaN</td>\n",
       "      <td>3</td>\n",
       "      <td>False</td>\n",
       "      <td>4</td>\n",
       "      <td>Rhein_Pfalz_Kreis</td>\n",
       "      <td>Böhl_Iggelheim</td>\n",
       "      <td>Alles neu macht der Mai – so kann es auch für ...</td>\n",
       "      <td>NaN</td>\n",
       "      <td>NaN</td>\n",
       "      <td>NaN</td>\n",
       "      <td>2019.0</td>\n",
       "      <td>NaN</td>\n",
       "      <td>NaN</td>\n",
       "      <td>May19</td>\n",
       "    </tr>\n",
       "  </tbody>\n",
       "</table>\n",
       "</div>"
      ],
      "text/plain": [
       "                regio1  serviceCharge                     heatingType  \\\n",
       "0  Nordrhein_Westfalen          245.0                 central_heating   \n",
       "1      Rheinland_Pfalz          134.0  self_contained_central_heating   \n",
       "\n",
       "  telekomTvOffer  telekomHybridUploadSpeed  newlyConst  balcony  picturecount  \\\n",
       "0  ONE_YEAR_FREE                       NaN       False    False             6   \n",
       "1  ONE_YEAR_FREE                       NaN       False     True             8   \n",
       "\n",
       "   pricetrend  telekomUploadSpeed  totalRent  yearConstructed    scoutId  \\\n",
       "0        4.62                10.0      840.0           1965.0   96107057   \n",
       "1        3.47                10.0        NaN           1871.0  111378734   \n",
       "\n",
       "   noParkSpaces firingTypes  hasKitchen              geo_bln  cellar  \\\n",
       "0           1.0         oil       False  Nordrhein_Westfalen    True   \n",
       "1           2.0         gas       False      Rheinland_Pfalz   False   \n",
       "\n",
       "   yearConstructedRange  baseRent houseNumber  livingSpace            geo_krs  \\\n",
       "0                   2.0     595.0         244         86.0           Dortmund   \n",
       "1                   1.0     800.0         NaN         89.0  Rhein_Pfalz_Kreis   \n",
       "\n",
       "     condition interiorQual petsAllowed                      street  \\\n",
       "0    well_kept       normal         NaN  Sch&uuml;ruferstra&szlig;e   \n",
       "1  refurbished       normal          no              no_information   \n",
       "\n",
       "       streetPlain   lift  baseRentRange    typeOfFlat  geo_plz  noRooms  \\\n",
       "0  Schüruferstraße  False              4  ground_floor    44269      4.0   \n",
       "1              NaN  False              5  ground_floor    67459      3.0   \n",
       "\n",
       "   thermalChar  floor  numberOfFloors  noRoomsRange  garden  livingSpaceRange  \\\n",
       "0        181.4    1.0             3.0             4    True                 4   \n",
       "1          NaN    NaN             NaN             3   False                 4   \n",
       "\n",
       "              regio2          regio3  \\\n",
       "0           Dortmund         Schüren   \n",
       "1  Rhein_Pfalz_Kreis  Böhl_Iggelheim   \n",
       "\n",
       "                                         description  \\\n",
       "0  Die ebenerdig zu erreichende Erdgeschosswohnun...   \n",
       "1  Alles neu macht der Mai – so kann es auch für ...   \n",
       "\n",
       "                                          facilities  heatingCosts  \\\n",
       "0  Die Wohnung ist mit Laminat ausgelegt. Das Bad...           NaN   \n",
       "1                                                NaN           NaN   \n",
       "\n",
       "  energyEfficiencyClass  lastRefurbish  electricityBasePrice  \\\n",
       "0                   NaN            NaN                   NaN   \n",
       "1                   NaN         2019.0                   NaN   \n",
       "\n",
       "   electricityKwhPrice   date  \n",
       "0                  NaN  May19  \n",
       "1                  NaN  May19  "
      ]
     },
     "metadata": {},
     "output_type": "display_data"
    },
    {
     "data": {
      "text/html": [
       "<div>\n",
       "<style scoped>\n",
       "    .dataframe tbody tr th:only-of-type {\n",
       "        vertical-align: middle;\n",
       "    }\n",
       "\n",
       "    .dataframe tbody tr th {\n",
       "        vertical-align: top;\n",
       "    }\n",
       "\n",
       "    .dataframe thead th {\n",
       "        text-align: right;\n",
       "    }\n",
       "</style>\n",
       "<table border=\"1\" class=\"dataframe\">\n",
       "  <thead>\n",
       "    <tr style=\"text-align: right;\">\n",
       "      <th></th>\n",
       "      <th>plz</th>\n",
       "      <th>note</th>\n",
       "      <th>einwohner</th>\n",
       "      <th>qkm</th>\n",
       "      <th>lat</th>\n",
       "      <th>lon</th>\n",
       "    </tr>\n",
       "  </thead>\n",
       "  <tbody>\n",
       "    <tr>\n",
       "      <th>0</th>\n",
       "      <td>1067</td>\n",
       "      <td>01067 Dresden</td>\n",
       "      <td>11957</td>\n",
       "      <td>6.866839</td>\n",
       "      <td>51.06019</td>\n",
       "      <td>13.71117</td>\n",
       "    </tr>\n",
       "    <tr>\n",
       "      <th>1</th>\n",
       "      <td>1069</td>\n",
       "      <td>01069 Dresden</td>\n",
       "      <td>25483</td>\n",
       "      <td>5.339213</td>\n",
       "      <td>51.03964</td>\n",
       "      <td>13.73030</td>\n",
       "    </tr>\n",
       "  </tbody>\n",
       "</table>\n",
       "</div>"
      ],
      "text/plain": [
       "    plz           note  einwohner       qkm       lat       lon\n",
       "0  1067  01067 Dresden      11957  6.866839  51.06019  13.71117\n",
       "1  1069  01069 Dresden      25483  5.339213  51.03964  13.73030"
      ]
     },
     "metadata": {},
     "output_type": "display_data"
    },
    {
     "data": {
      "text/html": [
       "<div>\n",
       "<style scoped>\n",
       "    .dataframe tbody tr th:only-of-type {\n",
       "        vertical-align: middle;\n",
       "    }\n",
       "\n",
       "    .dataframe tbody tr th {\n",
       "        vertical-align: top;\n",
       "    }\n",
       "\n",
       "    .dataframe thead th {\n",
       "        text-align: right;\n",
       "    }\n",
       "</style>\n",
       "<table border=\"1\" class=\"dataframe\">\n",
       "  <thead>\n",
       "    <tr style=\"text-align: right;\">\n",
       "      <th></th>\n",
       "      <th>osm_id</th>\n",
       "      <th>ags</th>\n",
       "      <th>ort</th>\n",
       "      <th>plz</th>\n",
       "      <th>landkreis</th>\n",
       "      <th>bundesland</th>\n",
       "    </tr>\n",
       "  </thead>\n",
       "  <tbody>\n",
       "    <tr>\n",
       "      <th>0</th>\n",
       "      <td>1104550</td>\n",
       "      <td>8335001</td>\n",
       "      <td>Aach</td>\n",
       "      <td>78267</td>\n",
       "      <td>Landkreis Konstanz</td>\n",
       "      <td>Baden-Württemberg</td>\n",
       "    </tr>\n",
       "    <tr>\n",
       "      <th>1</th>\n",
       "      <td>1255910</td>\n",
       "      <td>7235001</td>\n",
       "      <td>Aach</td>\n",
       "      <td>54298</td>\n",
       "      <td>Landkreis Trier-Saarburg</td>\n",
       "      <td>Rheinland-Pfalz</td>\n",
       "    </tr>\n",
       "  </tbody>\n",
       "</table>\n",
       "</div>"
      ],
      "text/plain": [
       "    osm_id      ags   ort    plz                 landkreis         bundesland\n",
       "0  1104550  8335001  Aach  78267        Landkreis Konstanz  Baden-Württemberg\n",
       "1  1255910  7235001  Aach  54298  Landkreis Trier-Saarburg    Rheinland-Pfalz"
      ]
     },
     "metadata": {},
     "output_type": "display_data"
    }
   ],
   "source": [
    "display(main_df.head(2))\n",
    "display(plz_df.head(2))\n",
    "display(city_df.head(2))\n"
   ]
  },
  {
   "cell_type": "code",
   "execution_count": 7,
   "metadata": {},
   "outputs": [
    {
     "name": "stdout",
     "output_type": "stream",
     "text": [
      "{'01': 'Dresden', '02': 'Görlitz', '03': 'Cottbus - Chóśebuz', '04': 'Leipzig', '06': 'Halle (Saale)', '07': 'Gera', '08': 'Plauen', '09': 'Chemnitz', '10': 'Berlin', '12': 'Berlin', '13': 'Berlin', '14': 'Berlin', '15': 'Frankfurt (Oder)', '16': 'Neuruppin', '17': 'Greifswald', '18': 'Rostock', '19': 'Schwerin', '20': 'Hamburg', '21': 'Hamburg', '22': 'Hamburg', '23': 'Lübeck', '24': 'Kiel', '25': 'Bordelum', '26': 'Oldenburg', '27': 'Bremerhaven', '28': 'Bremen', '29': 'Celle', '30': 'Hannover', '31': 'Hildesheim', '32': 'Minden', '33': 'Bielefeld', '34': 'Kassel', '35': 'Wetzlar', '36': 'Fulda', '37': 'Göttingen', '38': 'Braunschweig', '39': 'Magdeburg', '40': 'Düsseldorf', '41': 'Mönchengladbach', '42': 'Wuppertal', '44': 'Dortmund', '45': 'Essen', '46': 'Oberhausen', '47': 'Duisburg', '48': 'Münster', '49': 'Osnabrück', '50': 'Köln', '51': 'Köln', '52': 'Aachen', '53': 'Bonn', '54': 'Trier', '55': 'Mainz', '56': 'Koblenz', '57': 'Siegen', '58': 'Hagen', '59': 'Hamm', '60': 'Frankfurt am Main', '61': 'Bad Homburg vor der Höhe', '63': 'Offenbach am Main', '64': 'Darmstadt', '65': 'Wiesbaden', '66': 'Saarbrücken', '67': 'Ludwigshafen am Rhein', '68': 'Mannheim', '69': 'Heidelberg', '70': 'Stuttgart', '71': 'Ludwigsburg', '72': 'Reutlingen', '73': 'Schwäbisch Gmünd', '74': 'Heilbronn', '75': 'Pforzheim', '76': 'Karlsruhe', '77': 'Offenburg', '78': 'Villingen-Schwenningen', '79': 'Freiburg im Breisgau', '80': 'München', '81': 'München', '82': 'Krün', '83': 'Gars am Inn', '84': 'Landshut', '85': 'Ingolstadt', '86': 'Augsburg', '87': 'Kempten (Allgäu)', '88': 'Friedrichshafen', '89': 'Ulm', '90': 'Nürnberg', '91': 'Erlangen', '92': 'Neumarkt in der Oberpfalz', '93': 'Regensburg', '94': 'Passau', '95': 'Bayreuth', '96': 'Bamberg', '97': 'Würzburg', '98': 'Suhl', '99': 'Erfurt'}\n"
     ]
    }
   ],
   "source": [
    "# extraciting city name based on plz code from city_df\n",
    "city_df['plz'] = city_df['plz'].astype(str).str.zfill(5)\n",
    "city_df['plz_2'] = city_df['plz'].str[:2]\n",
    "grouped = city_df.groupby('plz_2')['ort'].agg(lambda x: x.mode()[0] if not x.mode().empty else x.iloc[0]).reset_index()\n",
    "city_dict = dict(zip(grouped['plz_2'], grouped['ort']))\n",
    "print(city_dict)"
   ]
  },
  {
   "cell_type": "code",
   "execution_count": 8,
   "metadata": {},
   "outputs": [
    {
     "name": "stdout",
     "output_type": "stream",
     "text": [
      "No of missing values in cityName_mapped: 0\n"
     ]
    }
   ],
   "source": [
    "# Define the city dictionary, including manually added missing cities\n",
    "city_dict = {\n",
    "    '01': 'Dresden', '02': 'Görlitz', '03': 'Cottbus - Chóśebuz', '04': 'Leipzig', '05': 'Neuschwabenland',\n",
    "    '06': 'Halle (Saale)', '07': 'Gera', '08': 'Plauen', '09': 'Chemnitz', '10': 'Berlin', '11': 'Berlin',\n",
    "    '12': 'Berlin', '13': 'Berlin', '14': 'Berlin', '15': 'Frankfurt (Oder)', '16': 'Neuruppin', '17': 'Greifswald',\n",
    "    '18': 'Rostock', '19': 'Schwerin', '20': 'Hamburg', '21': 'Hamburg', '22': 'Hamburg', '23': 'Lübeck',\n",
    "    '24': 'Kiel', '25': 'Bordelum', '26': 'Oldenburg', '27': 'Bremerhaven', '28': 'Bremen', '29': 'Celle',\n",
    "    '30': 'Hannover', '31': 'Hildesheim', '32': 'Minden', '33': 'Bielefeld', '34': 'Kassel', '35': 'Wetzlar',\n",
    "    '36': 'Fulda', '37': 'Göttingen', '38': 'Braunschweig', '39': 'Magdeburg', '40': 'Düsseldorf', \n",
    "    '41': 'Mönchengladbach', '42': 'Wuppertal', '43': 'Leipzig', '44': 'Dortmund', '45': 'Essen', '46': 'Oberhausen',\n",
    "    '47': 'Duisburg', '48': 'Münster', '49': 'Osnabrück', '50': 'Köln', '51': 'Köln', '52': 'Aachen', \n",
    "    '53': 'Bonn', '54': 'Trier', '55': 'Mainz', '56': 'Koblenz', '57': 'Siegen', '58': 'Hagen', '59': 'Hamm',\n",
    "    '60': 'Frankfurt am Main', '61': 'Bad Homburg vor der Höhe', '62': 'Heidelberg', '63': 'Offenbach am Main',\n",
    "    '64': 'Darmstadt', '65': 'Wiesbaden', '66': 'Saarbrücken', '67': 'Ludwigshafen am Rhein', '68': 'Mannheim',\n",
    "    '69': 'Heidelberg', '70': 'Stuttgart', '71': 'Ludwigsburg', '72': 'Reutlingen', '73': 'Schwäbisch Gmünd',\n",
    "    '74': 'Heilbronn', '75': 'Pforzheim', '76': 'Karlsruhe', '77': 'Offenburg', '78': 'Villingen-Schwenningen',\n",
    "    '79': 'Freiburg im Breisgau', '80': 'München', '81': 'München', '82': 'Krün', '83': 'Gars am Inn',\n",
    "    '84': 'Landshut', '85': 'Ingolstadt', '86': 'Augsburg', '87': 'Kempten (Allgäu)', '88': 'Friedrichshafen',\n",
    "    '89': 'Ulm', '90': 'Nürnberg', '91': 'Erlangen', '92': 'Neumarkt in der Oberpfalz', '93': 'Regensburg',\n",
    "    '94': 'Passau', '95': 'Bayreuth', '96': 'Bamberg', '97': 'Würzburg', '98': 'Suhl', '99': 'Erfurt'\n",
    "}\n",
    "\n",
    "# Process and map the city names to main_df\n",
    "main_df['geo_plz_2'] = main_df['geo_plz'].astype(str).str.zfill(5).str[:2]\n",
    "\n",
    "\n",
    "# Replace specific missing geo_plz_2 values manually\n",
    "main_df.loc[main_df['geo_plz_2'] == '00', 'geo_plz_2'] = '08'\n",
    "\n",
    "# Map city names using the city dictionary\n",
    "main_df['cityName_mapped'] = main_df['geo_plz_2'].map(city_dict)\n",
    "\n",
    "\n",
    "# Calculate missing values in the mapped column\n",
    "missing_values = main_df[main_df['cityName_mapped'].isnull()]\n",
    "print(f'No of missing values in cityName_mapped: {missing_values.shape[0]}')\n"
   ]
  },
  {
   "cell_type": "code",
   "execution_count": 10,
   "metadata": {},
   "outputs": [],
   "source": [
    "# changes in plz_df\n",
    "plz_df.rename(columns={'plz': 'geo_plz'}, inplace=True)\n",
    "plz_df.rename(columns={'einwohner':'residents'},inplace =True)\n",
    "plz_df.rename(columns={'qkm':'zip_area_sq_km'}, inplace =True)\n",
    "plz_df.drop(columns=['note'], inplace=True)\n",
    "\n",
    "# Merge two DataFrames train and plz_df based on geo_plz and plz\n",
    "data = pd.merge(main_df, plz_df, on='geo_plz', how='inner')"
   ]
  },
  {
   "cell_type": "code",
   "execution_count": 12,
   "metadata": {},
   "outputs": [
    {
     "name": "stdout",
     "output_type": "stream",
     "text": [
      "No of categorical columns: 21\n",
      "No of numerical columns: 34\n"
     ]
    }
   ],
   "source": [
    "# object type columns\n",
    "print(f'No of categorical columns: {data.select_dtypes(include='object').columns.shape[0]}')\n",
    "# Numerical columns\n",
    "print(f'No of numerical columns: {data.select_dtypes(exclude='object').columns.shape[0]}')"
   ]
  },
  {
   "cell_type": "code",
   "execution_count": 13,
   "metadata": {},
   "outputs": [
    {
     "name": "stdout",
     "output_type": "stream",
     "text": [
      "<class 'pandas.core.frame.DataFrame'>\n",
      "RangeIndex: 267790 entries, 0 to 267789\n",
      "Data columns (total 55 columns):\n",
      " #   Column                    Non-Null Count   Dtype  \n",
      "---  ------                    --------------   -----  \n",
      " 0   regio1                    267790 non-null  object \n",
      " 1   serviceCharge             260908 non-null  float64\n",
      " 2   heatingType               223099 non-null  object \n",
      " 3   telekomTvOffer            235557 non-null  object \n",
      " 4   telekomHybridUploadSpeed  44906 non-null   float64\n",
      " 5   newlyConst                267790 non-null  bool   \n",
      " 6   balcony                   267790 non-null  bool   \n",
      " 7   picturecount              267790 non-null  int64  \n",
      " 8   pricetrend                265961 non-null  float64\n",
      " 9   telekomUploadSpeed        234821 non-null  float64\n",
      " 10  totalRent                 227393 non-null  float64\n",
      " 11  yearConstructed           211070 non-null  float64\n",
      " 12  scoutId                   267790 non-null  int64  \n",
      " 13  noParkSpaces              92656 non-null   float64\n",
      " 14  firingTypes               211137 non-null  object \n",
      " 15  hasKitchen                267790 non-null  bool   \n",
      " 16  geo_bln                   267790 non-null  object \n",
      " 17  cellar                    267790 non-null  bool   \n",
      " 18  yearConstructedRange      211070 non-null  float64\n",
      " 19  baseRent                  267790 non-null  float64\n",
      " 20  houseNumber               197046 non-null  object \n",
      " 21  livingSpace               267790 non-null  float64\n",
      " 22  geo_krs                   267790 non-null  object \n",
      " 23  condition                 199495 non-null  object \n",
      " 24  interiorQual              155448 non-null  object \n",
      " 25  petsAllowed               153563 non-null  object \n",
      " 26  street                    267790 non-null  object \n",
      " 27  streetPlain               197050 non-null  object \n",
      " 28  lift                      267790 non-null  bool   \n",
      " 29  baseRentRange             267790 non-null  int64  \n",
      " 30  typeOfFlat                231324 non-null  object \n",
      " 31  geo_plz                   267790 non-null  int64  \n",
      " 32  noRooms                   267790 non-null  float64\n",
      " 33  thermalChar               161861 non-null  float64\n",
      " 34  floor                     216643 non-null  float64\n",
      " 35  numberOfFloors            170296 non-null  float64\n",
      " 36  noRoomsRange              267790 non-null  int64  \n",
      " 37  garden                    267790 non-null  bool   \n",
      " 38  livingSpaceRange          267790 non-null  int64  \n",
      " 39  regio2                    267790 non-null  object \n",
      " 40  regio3                    267790 non-null  object \n",
      " 41  description               248075 non-null  object \n",
      " 42  facilities                215085 non-null  object \n",
      " 43  heatingCosts              85209 non-null   float64\n",
      " 44  energyEfficiencyClass     77517 non-null   object \n",
      " 45  lastRefurbish             80294 non-null   float64\n",
      " 46  electricityBasePrice      46671 non-null   float64\n",
      " 47  electricityKwhPrice       46671 non-null   float64\n",
      " 48  date                      267790 non-null  object \n",
      " 49  geo_plz_2                 267790 non-null  object \n",
      " 50  cityName_mapped           267790 non-null  object \n",
      " 51  residents                 267790 non-null  int64  \n",
      " 52  zip_area_sq_km            267790 non-null  float64\n",
      " 53  lat                       267790 non-null  float64\n",
      " 54  lon                       267790 non-null  float64\n",
      "dtypes: bool(6), float64(21), int64(7), object(21)\n",
      "memory usage: 101.6+ MB\n"
     ]
    }
   ],
   "source": [
    "data.info()"
   ]
  },
  {
   "cell_type": "markdown",
   "metadata": {},
   "source": [
    "- The dataser contains 267790 rows and 11 features\n",
    "- The datatypes of some features isn't appropiate\n",
    "- Most of the features contains have missing values"
   ]
  },
  {
   "cell_type": "markdown",
   "metadata": {},
   "source": [
    "## 3. Preliminary Analysis"
   ]
  },
  {
   "cell_type": "markdown",
   "metadata": {},
   "source": [
    "### 3.1 Check for data types"
   ]
  },
  {
   "cell_type": "code",
   "execution_count": 14,
   "metadata": {},
   "outputs": [
    {
     "data": {
      "text/plain": [
       "21"
      ]
     },
     "execution_count": 14,
     "metadata": {},
     "output_type": "execute_result"
    }
   ],
   "source": [
    "# Objetc data types\n",
    "data.select_dtypes(include='object').shape[1]"
   ]
  },
  {
   "cell_type": "code",
   "execution_count": 15,
   "metadata": {},
   "outputs": [
    {
     "data": {
      "text/html": [
       "<div>\n",
       "<style scoped>\n",
       "    .dataframe tbody tr th:only-of-type {\n",
       "        vertical-align: middle;\n",
       "    }\n",
       "\n",
       "    .dataframe tbody tr th {\n",
       "        vertical-align: top;\n",
       "    }\n",
       "\n",
       "    .dataframe thead th {\n",
       "        text-align: right;\n",
       "    }\n",
       "</style>\n",
       "<table border=\"1\" class=\"dataframe\">\n",
       "  <thead>\n",
       "    <tr style=\"text-align: right;\">\n",
       "      <th></th>\n",
       "      <th>column</th>\n",
       "      <th>missing_percentage</th>\n",
       "    </tr>\n",
       "  </thead>\n",
       "  <tbody>\n",
       "    <tr>\n",
       "      <th>0</th>\n",
       "      <td>energyEfficiencyClass</td>\n",
       "      <td>71.05</td>\n",
       "    </tr>\n",
       "    <tr>\n",
       "      <th>1</th>\n",
       "      <td>petsAllowed</td>\n",
       "      <td>42.66</td>\n",
       "    </tr>\n",
       "    <tr>\n",
       "      <th>2</th>\n",
       "      <td>interiorQual</td>\n",
       "      <td>41.95</td>\n",
       "    </tr>\n",
       "    <tr>\n",
       "      <th>3</th>\n",
       "      <td>houseNumber</td>\n",
       "      <td>26.42</td>\n",
       "    </tr>\n",
       "    <tr>\n",
       "      <th>4</th>\n",
       "      <td>streetPlain</td>\n",
       "      <td>26.42</td>\n",
       "    </tr>\n",
       "    <tr>\n",
       "      <th>5</th>\n",
       "      <td>condition</td>\n",
       "      <td>25.50</td>\n",
       "    </tr>\n",
       "    <tr>\n",
       "      <th>6</th>\n",
       "      <td>firingTypes</td>\n",
       "      <td>21.16</td>\n",
       "    </tr>\n",
       "    <tr>\n",
       "      <th>7</th>\n",
       "      <td>facilities</td>\n",
       "      <td>19.68</td>\n",
       "    </tr>\n",
       "    <tr>\n",
       "      <th>8</th>\n",
       "      <td>heatingType</td>\n",
       "      <td>16.69</td>\n",
       "    </tr>\n",
       "    <tr>\n",
       "      <th>9</th>\n",
       "      <td>typeOfFlat</td>\n",
       "      <td>13.62</td>\n",
       "    </tr>\n",
       "    <tr>\n",
       "      <th>10</th>\n",
       "      <td>telekomTvOffer</td>\n",
       "      <td>12.04</td>\n",
       "    </tr>\n",
       "    <tr>\n",
       "      <th>11</th>\n",
       "      <td>description</td>\n",
       "      <td>7.36</td>\n",
       "    </tr>\n",
       "    <tr>\n",
       "      <th>12</th>\n",
       "      <td>regio1</td>\n",
       "      <td>0.00</td>\n",
       "    </tr>\n",
       "    <tr>\n",
       "      <th>13</th>\n",
       "      <td>geo_plz_2</td>\n",
       "      <td>0.00</td>\n",
       "    </tr>\n",
       "    <tr>\n",
       "      <th>14</th>\n",
       "      <td>date</td>\n",
       "      <td>0.00</td>\n",
       "    </tr>\n",
       "    <tr>\n",
       "      <th>15</th>\n",
       "      <td>street</td>\n",
       "      <td>0.00</td>\n",
       "    </tr>\n",
       "    <tr>\n",
       "      <th>16</th>\n",
       "      <td>regio3</td>\n",
       "      <td>0.00</td>\n",
       "    </tr>\n",
       "    <tr>\n",
       "      <th>17</th>\n",
       "      <td>regio2</td>\n",
       "      <td>0.00</td>\n",
       "    </tr>\n",
       "    <tr>\n",
       "      <th>18</th>\n",
       "      <td>geo_krs</td>\n",
       "      <td>0.00</td>\n",
       "    </tr>\n",
       "    <tr>\n",
       "      <th>19</th>\n",
       "      <td>geo_bln</td>\n",
       "      <td>0.00</td>\n",
       "    </tr>\n",
       "    <tr>\n",
       "      <th>20</th>\n",
       "      <td>cityName_mapped</td>\n",
       "      <td>0.00</td>\n",
       "    </tr>\n",
       "  </tbody>\n",
       "</table>\n",
       "</div>"
      ],
      "text/plain": [
       "                   column  missing_percentage\n",
       "0   energyEfficiencyClass               71.05\n",
       "1             petsAllowed               42.66\n",
       "2            interiorQual               41.95\n",
       "3             houseNumber               26.42\n",
       "4             streetPlain               26.42\n",
       "5               condition               25.50\n",
       "6             firingTypes               21.16\n",
       "7              facilities               19.68\n",
       "8             heatingType               16.69\n",
       "9              typeOfFlat               13.62\n",
       "10         telekomTvOffer               12.04\n",
       "11            description                7.36\n",
       "12                 regio1                0.00\n",
       "13              geo_plz_2                0.00\n",
       "14                   date                0.00\n",
       "15                 street                0.00\n",
       "16                 regio3                0.00\n",
       "17                 regio2                0.00\n",
       "18                geo_krs                0.00\n",
       "19                geo_bln                0.00\n",
       "20        cityName_mapped                0.00"
      ]
     },
     "execution_count": 15,
     "metadata": {},
     "output_type": "execute_result"
    }
   ],
   "source": [
    "#  percentage of missing values for each object column\n",
    "(\n",
    "    (\n",
    "    data.select_dtypes(include='object')\n",
    "    .isna()\n",
    "    .sum()/len(data.select_dtypes(include='object'))*100\n",
    "    )\n",
    "    .sort_values(ascending=False)\n",
    "    .round(2)\n",
    "    .reset_index()\n",
    "    .rename(columns={'index':'column', 0:'missing_percentage'})\n",
    ")"
   ]
  },
  {
   "cell_type": "markdown",
   "metadata": {},
   "source": [
    "energyEfficincy class has 71.07 null values present "
   ]
  },
  {
   "cell_type": "markdown",
   "metadata": {},
   "source": [
    "### 3.2 Check for duplicates"
   ]
  },
  {
   "cell_type": "code",
   "execution_count": 16,
   "metadata": {},
   "outputs": [
    {
     "data": {
      "text/plain": [
       "np.int64(0)"
      ]
     },
     "execution_count": 16,
     "metadata": {},
     "output_type": "execute_result"
    }
   ],
   "source": [
    "data.duplicated().sum()"
   ]
  },
  {
   "cell_type": "markdown",
   "metadata": {},
   "source": [
    "There are no duplicates in the dataset "
   ]
  },
  {
   "cell_type": "markdown",
   "metadata": {},
   "source": [
    "## 4. Detailed Analysis"
   ]
  },
  {
   "cell_type": "markdown",
   "metadata": {},
   "source": [
    "### 4.1 Categorical Features"
   ]
  },
  {
   "cell_type": "markdown",
   "metadata": {},
   "source": [
    "#### Energy Efficincy Class"
   ]
  },
  {
   "cell_type": "code",
   "execution_count": 17,
   "metadata": {},
   "outputs": [
    {
     "data": {
      "text/plain": [
       "energyEfficiencyClass\n",
       "NaN               71.053064\n",
       "C                  5.448299\n",
       "NO_INFORMATION     5.246648\n",
       "D                  5.188020\n",
       "B                  4.222712\n",
       "E                  2.975092\n",
       "A                  1.840995\n",
       "F                  1.668472\n",
       "A_PLUS             1.347698\n",
       "G                  0.673289\n",
       "H                  0.335711\n",
       "Name: proportion, dtype: float64"
      ]
     },
     "execution_count": 17,
     "metadata": {},
     "output_type": "execute_result"
    }
   ],
   "source": [
    "(\n",
    "    data['energyEfficiencyClass']\n",
    "    .value_counts(normalize = True,dropna=False)*100\n",
    ")"
   ]
  },
  {
   "cell_type": "markdown",
   "metadata": {},
   "source": [
    "- There are 71% values are NA and 5% of column do not have th information about energy efficiency, so in total we have ca. 76% of column do not have th information about energy efficiency. Therefore we will drop this column"
   ]
  },
  {
   "cell_type": "markdown",
   "metadata": {},
   "source": [
    "#### Pets Allowed"
   ]
  },
  {
   "cell_type": "code",
   "execution_count": 18,
   "metadata": {},
   "outputs": [
    {
     "data": {
      "text/plain": [
       "petsAllowed\n",
       "NaN           42.655439\n",
       "negotiable    34.176780\n",
       "no            19.338661\n",
       "yes            3.829120\n",
       "Name: proportion, dtype: float64"
      ]
     },
     "execution_count": 18,
     "metadata": {},
     "output_type": "execute_result"
    }
   ],
   "source": [
    "(\n",
    "    data['petsAllowed']\n",
    "    .value_counts(normalize = True,dropna=False)*100\n",
    ")"
   ]
  },
  {
   "cell_type": "code",
   "execution_count": 19,
   "metadata": {},
   "outputs": [
    {
     "data": {
      "text/plain": [
       "petsAllowed\n",
       "unknown       42.655439\n",
       "negotiable    34.176780\n",
       "no            19.338661\n",
       "yes            3.829120\n",
       "Name: proportion, dtype: float64"
      ]
     },
     "execution_count": 19,
     "metadata": {},
     "output_type": "execute_result"
    }
   ],
   "source": [
    "# Replace NaN with \"unknown\"\n",
    "data['petsAllowed'] = data['petsAllowed'].fillna('unknown')\n",
    "(\n",
    "    data['petsAllowed']\n",
    "    .value_counts(normalize = True,dropna=False)*100\n",
    ")"
   ]
  },
  {
   "cell_type": "markdown",
   "metadata": {},
   "source": [
    "#### interiorQual"
   ]
  },
  {
   "cell_type": "code",
   "execution_count": 20,
   "metadata": {},
   "outputs": [
    {
     "data": {
      "text/plain": [
       "interiorQual\n",
       "NaN              41.951529\n",
       "normal           30.405915\n",
       "sophisticated    24.072968\n",
       "luxury            2.844766\n",
       "simple            0.724822\n",
       "Name: proportion, dtype: float64"
      ]
     },
     "execution_count": 20,
     "metadata": {},
     "output_type": "execute_result"
    }
   ],
   "source": [
    "(\n",
    "    data['interiorQual']\n",
    "    .value_counts(normalize = True,dropna=False)*100\n",
    ")"
   ]
  },
  {
   "cell_type": "code",
   "execution_count": 21,
   "metadata": {},
   "outputs": [
    {
     "data": {
      "text/plain": [
       "interiorQual\n",
       "unknown          41.951529\n",
       "normal           30.405915\n",
       "sophisticated    24.072968\n",
       "luxury            2.844766\n",
       "simple            0.724822\n",
       "Name: proportion, dtype: float64"
      ]
     },
     "execution_count": 21,
     "metadata": {},
     "output_type": "execute_result"
    }
   ],
   "source": [
    "# Replace NaN with \"unknown\"\n",
    "data['interiorQual'] = data['interiorQual'].fillna('unknown')\n",
    "(\n",
    "    data['interiorQual']\n",
    "    .value_counts(normalize = True,dropna=False)*100\n",
    ")"
   ]
  },
  {
   "cell_type": "markdown",
   "metadata": {},
   "source": [
    "#### houseNumber"
   ]
  },
  {
   "cell_type": "code",
   "execution_count": 22,
   "metadata": {},
   "outputs": [
    {
     "data": {
      "text/plain": [
       "houseNumber\n",
       "NaN           26.417715\n",
       "1              2.667389\n",
       "2              2.522872\n",
       "4              2.165129\n",
       "3              2.121065\n",
       "                ...    \n",
       "90A            0.000373\n",
       "235a           0.000373\n",
       "147c IIIli     0.000373\n",
       "16/0402        0.000373\n",
       "32 (WE 66)     0.000373\n",
       "Name: proportion, Length: 5498, dtype: float64"
      ]
     },
     "execution_count": 22,
     "metadata": {},
     "output_type": "execute_result"
    }
   ],
   "source": [
    "(\n",
    "    data['houseNumber']\n",
    "    .value_counts(normalize = True,dropna=False)*100\n",
    ")"
   ]
  },
  {
   "cell_type": "markdown",
   "metadata": {},
   "source": [
    "- houseNumber do not effect the house price so much and it has more than 42% NaN values therefore we drop the houseNumber column from dataset"
   ]
  },
  {
   "cell_type": "markdown",
   "metadata": {},
   "source": [
    "#### streetPlain"
   ]
  },
  {
   "cell_type": "code",
   "execution_count": 23,
   "metadata": {},
   "outputs": [
    {
     "data": {
      "text/plain": [
       "streetPlain\n",
       "NaN                      26.416222\n",
       "Hauptstraße               0.337205\n",
       "Bahnhofstraße             0.309198\n",
       "Leipziger_Straße          0.159453\n",
       "Goethestraße              0.151611\n",
       "                           ...    \n",
       "Im_Wietloh                0.000373\n",
       "Kurt-Wüsteneck_Straße     0.000373\n",
       "Renkestrasse              0.000373\n",
       "Berggärtenstr.            0.000373\n",
       "Robert-Dißmann-Str.       0.000373\n",
       "Name: proportion, Length: 54297, dtype: float64"
      ]
     },
     "execution_count": 23,
     "metadata": {},
     "output_type": "execute_result"
    }
   ],
   "source": [
    "(\n",
    "    data['streetPlain']\n",
    "    .value_counts(normalize = True,dropna=False)*100\n",
    ")"
   ]
  },
  {
   "cell_type": "markdown",
   "metadata": {},
   "source": [
    "- streetPlain do not effect the house price so much and it has more than 26% NaN values therefore we drop the streetPlain column from dataset"
   ]
  },
  {
   "cell_type": "markdown",
   "metadata": {},
   "source": [
    "#### Condition"
   ]
  },
  {
   "cell_type": "code",
   "execution_count": 24,
   "metadata": {},
   "outputs": [
    {
     "data": {
      "text/plain": [
       "condition\n",
       "NaN                                   25.503193\n",
       "well_kept                             24.770156\n",
       "refurbished                           10.039957\n",
       "fully_renovated                        9.800963\n",
       "mint_condition                         8.156018\n",
       "first_time_use                         8.152284\n",
       "modernized                             6.410620\n",
       "first_time_use_after_refurbishment     5.824340\n",
       "negotiable                             0.832742\n",
       "need_of_renovation                     0.508234\n",
       "ripe_for_demolition                    0.001494\n",
       "Name: proportion, dtype: float64"
      ]
     },
     "execution_count": 24,
     "metadata": {},
     "output_type": "execute_result"
    }
   ],
   "source": [
    "(\n",
    "    data['condition']\n",
    "    .value_counts(normalize = True,dropna=False)*100\n",
    ")"
   ]
  },
  {
   "cell_type": "code",
   "execution_count": 25,
   "metadata": {},
   "outputs": [
    {
     "data": {
      "text/plain": [
       "condition\n",
       "unknown                               25.503193\n",
       "well_kept                             24.770156\n",
       "refurbished                           10.039957\n",
       "fully_renovated                        9.800963\n",
       "mint_condition                         8.156018\n",
       "first_time_use                         8.152284\n",
       "modernized                             6.410620\n",
       "first_time_use_after_refurbishment     5.824340\n",
       "negotiable                             0.832742\n",
       "need_of_renovation                     0.508234\n",
       "ripe_for_demolition                    0.001494\n",
       "Name: proportion, dtype: float64"
      ]
     },
     "execution_count": 25,
     "metadata": {},
     "output_type": "execute_result"
    }
   ],
   "source": [
    "data['condition'] = data['condition'].fillna('unknown')\n",
    "(\n",
    "    data['condition']\n",
    "    .value_counts(normalize = True, dropna=False)*100\n",
    ")"
   ]
  },
  {
   "cell_type": "markdown",
   "metadata": {},
   "source": [
    "#### firingTypes"
   ]
  },
  {
   "cell_type": "code",
   "execution_count": 26,
   "metadata": {},
   "outputs": [
    {
     "data": {
      "text/plain": [
       "firingTypes\n",
       "gas                                                                                                  41.258822\n",
       "NaN                                                                                                  21.155756\n",
       "district_heating                                                                                     18.409948\n",
       "oil                                                                                                   6.733261\n",
       "natural_gas_light                                                                                     3.745099\n",
       "                                                                                                       ...    \n",
       "geothermal:solar_heating:pellet_heating:gas                                                           0.000373\n",
       "gas:oil:electricity                                                                                   0.000373\n",
       "district_heating:combined_heat_and_power_fossil_fuels:combined_heat_and_power_regenerative_energy     0.000373\n",
       "pellet_heating:wood:wood_chips                                                                        0.000373\n",
       "district_heating:hydro_energy                                                                         0.000373\n",
       "Name: proportion, Length: 133, dtype: float64"
      ]
     },
     "execution_count": 26,
     "metadata": {},
     "output_type": "execute_result"
    }
   ],
   "source": [
    "(\n",
    "    data['firingTypes']\n",
    "    .value_counts(normalize = True,dropna=False)*100\n",
    ")"
   ]
  },
  {
   "cell_type": "markdown",
   "metadata": {},
   "source": [
    "- Assign NaN values only to the top 4 categories based on their value counts (while ignoring the rest of the categories)"
   ]
  },
  {
   "cell_type": "code",
   "execution_count": 27,
   "metadata": {},
   "outputs": [
    {
     "name": "stdout",
     "output_type": "stream",
     "text": [
      "Top 4 categories: Index(['gas', 'district_heating', 'oil', 'natural_gas_light'], dtype='object', name='firingTypes')\n"
     ]
    }
   ],
   "source": [
    "# Calculate the value counts for the column, excluding NaN\n",
    "value_counts = data['firingTypes'].value_counts(normalize=True)\n",
    "\n",
    "# Get the top 4 categories\n",
    "top_4_categories = value_counts.head(4).index\n",
    "print(\"Top 4 categories:\", top_4_categories)\n",
    "\n",
    "# Filter the rows with NaN values\n",
    "nan_indices = data['firingTypes'][data['firingTypes'].isna()].index\n",
    "\n",
    "# Handle the case where there are no NaN values\n",
    "if len(nan_indices) > 0:\n",
    "    # Normalize probabilities to sum to 1\n",
    "    probabilities = value_counts.loc[top_4_categories].values\n",
    "    probabilities = probabilities / probabilities.sum()  # Ensure sum of probabilities = 1\n",
    "\n",
    "    # Assign NaN values to top 4 categories proportionally\n",
    "    data.loc[nan_indices, 'firingTypes'] = np.random.choice(\n",
    "        top_4_categories, \n",
    "        size=len(nan_indices), \n",
    "        p=probabilities,  # Use normalized probabilities\n",
    "        replace=True  # Ensure sampling with replacement\n",
    "    )\n",
    "else:\n",
    "    print(\"No NaN values found in 'firingTypes' column.\")\n"
   ]
  },
  {
   "cell_type": "code",
   "execution_count": 28,
   "metadata": {},
   "outputs": [
    {
     "data": {
      "text/plain": [
       "np.int64(0)"
      ]
     },
     "execution_count": 28,
     "metadata": {},
     "output_type": "execute_result"
    }
   ],
   "source": [
    "(\n",
    "    data['firingTypes']\n",
    "    .isna()\n",
    "    .sum()\n",
    ")"
   ]
  },
  {
   "cell_type": "code",
   "execution_count": 29,
   "metadata": {},
   "outputs": [
    {
     "data": {
      "text/plain": [
       "firingTypes\n",
       "gas                                                                                                  53.682363\n",
       "district_heating                                                                                     23.989693\n",
       "oil                                                                                                   8.756488\n",
       "natural_gas_light                                                                                     4.874342\n",
       "electricity                                                                                           1.801038\n",
       "                                                                                                       ...    \n",
       "geothermal:solar_heating:pellet_heating:gas                                                           0.000373\n",
       "gas:oil:electricity                                                                                   0.000373\n",
       "district_heating:combined_heat_and_power_fossil_fuels:combined_heat_and_power_regenerative_energy     0.000373\n",
       "pellet_heating:wood:wood_chips                                                                        0.000373\n",
       "district_heating:hydro_energy                                                                         0.000373\n",
       "Name: proportion, Length: 132, dtype: float64"
      ]
     },
     "execution_count": 29,
     "metadata": {},
     "output_type": "execute_result"
    }
   ],
   "source": [
    "(\n",
    "    data['firingTypes']\n",
    "    .value_counts(normalize = True,dropna=False)*100\n",
    ")"
   ]
  },
  {
   "cell_type": "markdown",
   "metadata": {},
   "source": [
    "#### facilities"
   ]
  },
  {
   "cell_type": "code",
   "execution_count": 30,
   "metadata": {},
   "outputs": [
    {
     "data": {
      "text/plain": [
       "facilities\n",
       "NaN                                                                                                                                                                                                                                                                                                                                                                                                                                                                                                                                                                                                                                                                                                                                                                                                                                                                                                                       19.681467\n",
       "Laminat                                                                                                                                                                                                                                                                                                                                                                                                                                                                                                                                                                                                                                                                                                                                                                                                                                                                                                                    0.076179\n",
       "Diese Wohnung wird komplett renoviert und nach Bedarf mit neuen Fußbodenbelägen, Innentüren etc. ausgestattet. Das Bad ist gefliest und wird mit Badewanne bzw. Dusche ausgestattet. \\rDiese Wohnung verfügt über eine moderne Ausstattung. Hierzu gehören die Gegensprechanlage, Kabel-, Internet- und Telefonanschluss ebenso, wie der Waschmaschinen- und Geschirrspüleranschluss.\\rIndividuelle Ausstattungswünsche werden gern nach Möglichkeit und in Absprache mit unseren Mitarbeitern berücksichtigt. Die Wohnung wird vor Übergabe komplett gereinigt und ist sofort bezugsfertig.\\rAbstellmöglichkeiten bietet der mietereigene Keller. Darüber hinaus steht unseren Mietern ein Wäschetrockenplatz zur Verfügung.\\rKostenlose öffentliche Parkplätze sind in unmittelbarer Umgebung vorhanden.                                                                                                                 0.068337\n",
       "Laminatboden                                                                                                                                                                                                                                                                                                                                                                                                                                                                                                                                                                                                                                                                                                                                                                                                                                                                                                               0.039957\n",
       "Einbauküche                                                                                                                                                                                                                                                                                                                                                                                                                                                                                                                                                                                                                                                                                                                                                                                                                                                                                                                0.038836\n",
       "                                                                                                                                                                                                                                                                                                                                                                                                                                                                                                                                                                                                                                                                                                                                                                                                                                                                                                                            ...    \n",
       "Wir bieten Ihnen eine TOP-Immobilie. \\n\\nEine große, sehr helle 4-Raumwohnung, in der sich Jedermann nach Herzenslust entfalten kann. Ein großzügig geschnittenes Wohnzimmer läßt alle Einrichtungsmöglichkeiten zu, ob Couchecke und Essbereich oder Arbeitsplatz, hier ist einfach alles möglich. \\n\\nDer Balkon lädt zu geruhsamen Stunden der Entspannung oder einem Nachmittag mit Freunden ein. Eine Fensterfront im Wohnzimmer ist durch helle, großzügige Elemente komplett verglast, dunkle Stunden sind hier tabu. \\n\\nDas Schlafzimmer verfügt durch seine Größe über genügend Platz für Bett und Kleiderschrank oder auch noch die ein oder andere zusätzliche Kommode. Zum Objekt gehören zwei Kinderzimmer, ausgestattet mit TV-Anschluß. \\n\\nDas Badezimmer ist mit einer Badewanne, einem WC und einem Waschmaschinenanschluss ausgestattet.\\n\\nDie Diele bietet Platz für Schuhschrank und Garderobe.     0.000373\n",
       "Die Wohneinheit hat eine gehobene Innenausstattung mit Einbauküche, Einbaubett und Einbauschrank im Schlafzimmer, Eichendielen-Parkett hochwertiger Qualität und einem modernen Bad mit Dusche und Badewanne. Die Loggia im historischen schiefergedeckten Laubengang hat einen langlebigen Lärchenholzbelag.\\n\\nDie großen neuen Holzfenster sind zur Königstraße 4-fach verglast und bieten somit sehr guten Schallschutz. Zusammen mit den 3-fach verglasten Fenstern zur Flussseite und den mit Dämmputz verstärkten Außenwänden ergibt sich ein guter Wärmeschutz und damit Energieeffizienz.\\n\\nDie Heizungsanlage und alle Leitungen sind neu und auch die Innenwände sind neu verputzt.\\n                                                                                                                                                                                                                          0.000373\n",
       "- moderner und nutzerfreundlicher Grundriss\\n- helle und freundliche Wohnräume\\n- Laminat in den Wohnräumen\\n- farbige Fliesen in Bad und Küche\\n- Bad mit Handtuchheizung und Wanne\\n- Waschmaschinenplatz ebenfalls im Bad\\n- sonniger Balkon vom Wohnzimmer aus begehbar\\n- sehr geräumige Küche inkl EBK siehe Fotos                                                                                                                                                                                                                                                                                                                                                                                                                                                                                                                                                                                                   0.000373\n",
       "Das Objekt verfügt über ein sehr gepflegtes Massivsteintreppenhaus und ist voll unterkellert. Ein Trockenraum befindet sich auf dem Boden. Telefonanschluss ist gegeben.\\n\\nDie Wohnung soll frisch gestrichen übergeben werden.\\n\\nDie gesamte Wohnung ist mit isolierverglasten Kunststofffenstern und Laminat im Wohnzimmer, Schlafzimmer und Kinderzimmer sowie Fliesen im Flur, Bad und der Küche ausgestattet.\\n\\nRauchmelder sorgen für ihre Sicherheit.                                                                                                                                                                                                                                                                                                                                                                                                                                                            0.000373\n",
       "Balkon, Keller, Fahrstuhl, Vollbad, Einbauküche, Laminat\\n\\nBemerkungen:\\nWohn- und Esszimmer: Couch und Couchtisch(anders als im Bild), Esstisch und Stühle\\nKüche: Einbauküche mit Backofen, Kühl- und Gefrierschrank, kochfeld, Dunstabzug\\nElternzimmer: Bett 180cmx200cm wie in Bild, Kleiderschrank 250cm breit wie im Bild, zwei Nachttische und zwei Kommoden.\\nKinderzimmer: Bett 140cmx 200cm und Schreibtisch und Stuhl.                                                                                                                                                                                                                                                                                                                                                                                                                                                                                        0.000373\n",
       "Name: proportion, Length: 188841, dtype: float64"
      ]
     },
     "execution_count": 30,
     "metadata": {},
     "output_type": "execute_result"
    }
   ],
   "source": [
    "(\n",
    "    data['facilities']\n",
    "    .value_counts(normalize = True,dropna=False)*100\n",
    ")"
   ]
  },
  {
   "cell_type": "code",
   "execution_count": 31,
   "metadata": {},
   "outputs": [
    {
     "data": {
      "text/plain": [
       "0     Die Wohnung ist mit Laminat ausgelegt. Das Bad...\n",
       "1                                                   NaN\n",
       "2     * 9 m² Balkon\\n* Bad mit bodengleicher Dusche,...\n",
       "3                                                   NaN\n",
       "4     Diese Wohnung wurde neu saniert und ist wie fo...\n",
       "5     helle ebenerdige 2 Zi. Wohnung mit Terrasse, h...\n",
       "6                                                   NaN\n",
       "7     Rollläden; Warmwasserbereiter; Kellerraum; Gas...\n",
       "8                     Parkett, Einbauküche, kein Balkon\n",
       "9     In Ihrem neuen Zuhause können Sie nach wenigen...\n",
       "10                                                  NaN\n",
       "11    - Wohnzimmer mit Laminatboden\\n- Tageslichtbad...\n",
       "12    Die Charakteristiken des Jugendstils wurden li...\n",
       "13    Die Wohnung wird vor der Neuvermietung hochwer...\n",
       "14    Fußbodenheizung, hochwertiger Bodenbelag Parke...\n",
       "15    Die Wohnung verfügt über eine separate Küche m...\n",
       "16                         Fliesenböden in allen Räumen\n",
       "17                                                  NaN\n",
       "18    • Balkon\\n • Wanne\\n • Isolierverglasung\\n • g...\n",
       "19    Moderne Architektur gepaart mit hochwertigen M...\n",
       "Name: facilities, dtype: object"
      ]
     },
     "execution_count": 31,
     "metadata": {},
     "output_type": "execute_result"
    }
   ],
   "source": [
    "(\n",
    "    data['facilities']\n",
    "    .head(20)\n",
    ")"
   ]
  },
  {
   "cell_type": "markdown",
   "metadata": {},
   "source": [
    "- droping the facilities column for now , as we need the NLP analysis on the column to extract the features from the description of the facility. This is out of scope for this project."
   ]
  },
  {
   "cell_type": "markdown",
   "metadata": {},
   "source": [
    "#### heatingType"
   ]
  },
  {
   "cell_type": "code",
   "execution_count": 32,
   "metadata": {},
   "outputs": [
    {
     "data": {
      "text/plain": [
       "heatingType\n",
       "central_heating                   47.999552\n",
       "NaN                               16.688823\n",
       "district_heating                   9.237462\n",
       "gas_heating                        7.419246\n",
       "self_contained_central_heating     7.093992\n",
       "floor_heating                      6.579036\n",
       "oil_heating                        1.867135\n",
       "heat_pump                          1.020576\n",
       "combined_heat_and_power_plant      0.717727\n",
       "night_storage_heater               0.497031\n",
       "wood_pellet_heating                0.354756\n",
       "electric_heating                   0.334591\n",
       "stove_heating                      0.128459\n",
       "solar_heating                      0.061615\n",
       "Name: proportion, dtype: float64"
      ]
     },
     "execution_count": 32,
     "metadata": {},
     "output_type": "execute_result"
    }
   ],
   "source": [
    "(\n",
    "\n",
    "    data['heatingType']\n",
    "    .value_counts(normalize = True,dropna=False)*100\n",
    ")"
   ]
  },
  {
   "cell_type": "code",
   "execution_count": 33,
   "metadata": {},
   "outputs": [
    {
     "name": "stdout",
     "output_type": "stream",
     "text": [
      "nan_count: 0.1668882333171515 \n",
      "\n",
      "heatingType\n",
      "central_heating                   57.584622\n",
      "district_heating                  11.091020\n",
      "gas_heating                        8.916965\n",
      "self_contained_central_heating     8.515784\n",
      "floor_heating                      7.897313\n",
      "oil_heating                        2.256595\n",
      "heat_pump                          1.225425\n",
      "combined_heat_and_power_plant      0.862635\n",
      "night_storage_heater               0.596973\n",
      "wood_pellet_heating                0.427670\n",
      "electric_heating                   0.396190\n",
      "stove_heating                      0.154330\n",
      "solar_heating                      0.074478\n",
      "Name: proportion, dtype: float64\n"
     ]
    }
   ],
   "source": [
    "# Get the normalized value counts for 'heatingType' including NaN\n",
    "value_counts = data['heatingType'].value_counts(normalize=True, dropna=False)\n",
    "\n",
    "# Separate the NaN values\n",
    "nan_count = value_counts.get(np.nan, 0) \n",
    "print(f\"nan_count: {nan_count} \\n\" )\n",
    "\n",
    "# Remove the NaN category from value_counts to distribute its proportion\n",
    "non_nan_value_counts = value_counts.dropna()\n",
    "\n",
    "# Normalize the remaining proportions (ensure sum is 1)\n",
    "normalized_non_nan_counts = non_nan_value_counts / non_nan_value_counts.sum()\n",
    "\n",
    "# If there are NaN values, distribute them according to the normalized proportions\n",
    "if nan_count > 0:\n",
    "    # Calculate how many NaN values need to be distributed\n",
    "    nan_indices = data['heatingType'][data['heatingType'].isna()].index\n",
    "    num_nans = len(nan_indices)\n",
    "\n",
    "    # Sample NaN values based on the normalized proportions\n",
    "    sampled_values = np.random.choice(\n",
    "        normalized_non_nan_counts.index, \n",
    "        size=num_nans, \n",
    "        p=normalized_non_nan_counts.values, \n",
    "        replace=True\n",
    "    )\n",
    "\n",
    "    # Assign the sampled values to the NaN indices\n",
    "    data.loc[nan_indices, 'heatingType'] = sampled_values\n",
    "\n",
    "# Now drop the NaN values (in case there are any left)\n",
    "data = data.dropna(subset=['heatingType'])\n",
    "\n",
    "# Verify the result\n",
    "print(data['heatingType'].value_counts(normalize=True) * 100)"
   ]
  },
  {
   "cell_type": "markdown",
   "metadata": {},
   "source": [
    "#### typeOfFlat"
   ]
  },
  {
   "cell_type": "code",
   "execution_count": 34,
   "metadata": {},
   "outputs": [
    {
     "data": {
      "text/plain": [
       "typeOfFlat\n",
       "apartment              49.087265\n",
       "NaN                    13.286958\n",
       "roof_storey            13.013617\n",
       "ground_floor           11.776291\n",
       "other                   3.508125\n",
       "maisonette              3.498528\n",
       "raised_ground_floor     2.111862\n",
       "penthouse               1.337142\n",
       "terraced_flat           1.267271\n",
       "half_basement           0.754758\n",
       "loft                    0.358184\n",
       "Name: proportion, dtype: float64"
      ]
     },
     "execution_count": 34,
     "metadata": {},
     "output_type": "execute_result"
    }
   ],
   "source": [
    "(\n",
    "    data['typeOfFlat']\n",
    "    .value_counts(normalize = True,dropna=False)*100\n",
    ")"
   ]
  },
  {
   "cell_type": "markdown",
   "metadata": {},
   "source": [
    "- 13.27% NaN values "
   ]
  },
  {
   "cell_type": "code",
   "execution_count": 35,
   "metadata": {},
   "outputs": [
    {
     "name": "stdout",
     "output_type": "stream",
     "text": [
      "nan_count: 0.13286957589996967 \n",
      "\n",
      "typeOfFlat\n",
      "apartment              56.597370\n",
      "roof_storey            14.969835\n",
      "ground_floor           13.589640\n",
      "maisonette              4.049875\n",
      "other                   4.044010\n",
      "raised_ground_floor     2.442124\n",
      "penthouse               1.547148\n",
      "terraced_flat           1.474032\n",
      "half_basement           0.870735\n",
      "loft                    0.415231\n",
      "Name: proportion, dtype: float64\n"
     ]
    }
   ],
   "source": [
    "# Get the normalized value counts for 'heatingType' including NaN\n",
    "value_counts = data['typeOfFlat'].value_counts(normalize=True, dropna=False)\n",
    "\n",
    "# Separate the NaN values\n",
    "nan_count = value_counts.get(np.nan, 0) \n",
    "print(f\"nan_count: {nan_count} \\n\" )\n",
    "\n",
    "# Remove the NaN category from value_counts to distribute its proportion\n",
    "non_nan_value_counts = value_counts.dropna()\n",
    "\n",
    "# Normalize the remaining proportions (ensure sum is 1)\n",
    "normalized_non_nan_counts = non_nan_value_counts / non_nan_value_counts.sum()\n",
    "\n",
    "# distribute nan_values as per propotion\n",
    "if nan_count > 0:\n",
    "    nan_indices = data['typeOfFlat'][data['typeOfFlat'].isna()].index\n",
    "    num_nans = len(nan_indices)\n",
    "\n",
    "    # Sample NaN values based on the normalized proportions\n",
    "    sampled_values = np.random.choice(\n",
    "        normalized_non_nan_counts.index, \n",
    "        size=num_nans, \n",
    "        p=normalized_non_nan_counts.values, \n",
    "        replace=True\n",
    "    )\n",
    "    data.loc[nan_indices, 'typeOfFlat'] = sampled_values\n",
    "\n",
    "# Now drop the NaN values (in case there are any left)\n",
    "data = data.dropna(subset=['typeOfFlat'])\n",
    "\n",
    "# Verify the result\n",
    "print(data['typeOfFlat'].value_counts(normalize=True) * 100)"
   ]
  },
  {
   "cell_type": "markdown",
   "metadata": {},
   "source": [
    "#### telekomTvOffer"
   ]
  },
  {
   "cell_type": "code",
   "execution_count": 36,
   "metadata": {},
   "outputs": [
    {
     "data": {
      "text/plain": [
       "telekomTvOffer\n",
       "ONE_YEAR_FREE    84.814338\n",
       "NaN              11.979934\n",
       "NONE              1.847428\n",
       "ON_DEMAND         1.358299\n",
       "Name: proportion, dtype: float64"
      ]
     },
     "execution_count": 36,
     "metadata": {},
     "output_type": "execute_result"
    }
   ],
   "source": [
    "(\n",
    "    data['telekomTvOffer']\n",
    "    .value_counts(normalize = True,dropna=False)*100\n",
    ")"
   ]
  },
  {
   "cell_type": "code",
   "execution_count": 37,
   "metadata": {},
   "outputs": [
    {
     "data": {
      "text/plain": [
       "telekomTvOffer\n",
       "ONE_YEAR_FREE    84.814338\n",
       "unknown          13.827362\n",
       "ON_DEMAND         1.358299\n",
       "Name: proportion, dtype: float64"
      ]
     },
     "execution_count": 37,
     "metadata": {},
     "output_type": "execute_result"
    }
   ],
   "source": [
    "data['telekomTvOffer'] = data['telekomTvOffer'].fillna(\"unknown\")\n",
    "data['telekomTvOffer'] = data['telekomTvOffer'].replace(\"NONE\",\"unknown\")\n",
    "\n",
    "(\n",
    "    data['telekomTvOffer']\n",
    "    .value_counts(normalize = True,dropna=False)*100\n",
    ")\n"
   ]
  },
  {
   "cell_type": "markdown",
   "metadata": {},
   "source": [
    "#### description"
   ]
  },
  {
   "cell_type": "code",
   "execution_count": 38,
   "metadata": {},
   "outputs": [
    {
     "data": {
      "text/plain": [
       "description\n",
       "NaN                                                                                                                                                                                                                                                                                                                                                                                                                                                                                                                                                                                                                                                                                                                                                                                                                                                                                                                                                       7.095687\n",
       "saniertes Mehrfamilienhaus                                                                                                                                                                                                                                                                                                                                                                                                                                                                                                                                                                                                                                                                                                                                                                                                                                                                                                                                0.072724\n",
       "Das Objekt ist ein hochwertig saniertes und denkmalgeschütztes Mehrfamilienhaus.\\r\\n                                                                                                                                                                                                                                                                                                                                                                                                                                                                                                                                                                                                                                                                                                                                                                                                                                                                      0.071551\n",
       "+ MEIN GUENTZ - Quartier der Generationen\\r\\n+ bis 2020 fertiggestellter Neubau in Johannstadt-Nord\\r\\n+ Wohnen und Nahversorger in einem Areal\\r\\n  (REWE-Supermarkt, Drogerie ROSSMANN, Bäckerei Schwerdtner, TUI-Reisecenter)\\r\\n+ Kleinst- bis Familienwohnungen mit optimalen Grundrissen\\r\\n+ Innenbereich mit begrünten Erholungsflächen und einem Spielplatz sowie Ruhezonen zum Verweilen                                                                                                                                                                                                                                                                                                                                                                                                                                                                                                                                                        0.071160\n",
       "-saniertes Mehrfamilienhaus\\n-unterkellert                                                                                                                                                                                                                                                                                                                                                                                                                                                                                                                                                                                                                                                                                                                                                                                                                                                                                                                0.059430\n",
       "                                                                                                                                                                                                                                                                                                                                                                                                                                                                                                                                                                                                                                                                                                                                                                                                                                                                                                                                                            ...   \n",
       "Hinweis:\\nAb Anfang Februar gibt es aktuelle Bilder der Wohnung.\\n\\nBeschreibung der Wohnung:\\n\\nDie Wohnung hat eine großzügige Eingangsdiele, von welcher aus die meisten Zimmer  zu erreichen sind.  \\nDer Wohnbereich verfügt über drei großzügige Zimmer, die durch zwei große Flügeltüren miteinander verbunden sind. \\n\\nDie Zimmer spiegeln den typischen Altbauflair mit großzügigen Räumen und teilweise stuckverzierten Decken wider. \\n\\nNeben dem Eingangsbereich befindet sich die Küche mit angrenzender Vorratskammer und die 2012 renovierte Gästetoilette. \\nEin Tageslichtbad liegt zwischen zwei Räumen, die nach Bedarf als Schlafzimmer bzw. Umkleidezimmer benutzt werden können. \\n\\nAlle Wohnräume sind mit Parkett ausgestattet. \\nDer Küchenfußboden wird mit hochwertigem Vinylboden renoviert. \\n\\nDie nach hinten gelegenen Fenster und der Balkon liegen sehr ruhig zu einem schönen Innengarten mit altem Baumbestand.    0.000391\n",
       "Wir bieten Ihnen hier eine helle und gut geschnittene, recht geräumige 3,5-Zimmer-Wohnung in einem ruhigen 3-Familien-Haus in Duisburg Bergheim zur Miete an.\\nDie Wohnung befindet sich im 1. Obergeschoss des Hauses.                                                                                                                                                                                                                                                                                                                                                                                                                                                                                                                                                                                                                                                                                                                                   0.000391\n",
       "Unser Objekt liegt in hervorragender, ruhiger Wohnlage von Eisenberg/ Steinborn, sehr naturnah,\\r\\nverkehrsberuhigt(Sackstraße) und Südlage.\\r\\nInteressant ist die unverbaubare Aussicht,\\r\\nsowie der überdurchschnittlich große Balkon ( Süd/ West-Lage), mit hervorragendem Fernblick, unverbaut !!\\r\\n(Südlage)                                                                                                                                                                                                                                                                                                                                                                                                                                                                                                                                                                                                                                      0.000391\n",
       "Die angebotene Wohnung befindet sich in einer Wohnanlage, die durch große und grüne Innenhöfe ihren Charme erhält. Die Gebäude wurden 1930 errichtet und in den Jahren bis 2006 umfänglich saniert. An der Zschocherschen Straße sind kleinere Gewerbeflächen für den Einzelhandel und Appartements für Studenten entstanden. In den Gebäuden lebt heute ein bunter Mix der Generationen.                                                                                                                                                                                                                                                                                                                                                                                                                                                                                                                                                                 0.000391\n",
       "Schöne, helle, gut geschnittene und teilmöblierte Drei-Zimmer-Wohnung in gepflegter Wohnanlage.\\nBalkon, Einbauküche und Wannenbad. Schöne Aussicht auf Frankfurter Skyline und Taunus.                                                                                                                                                                                                                                                                                                                                                                                                                                                                                                                                                                                                                                                                                                                                                                   0.000391\n",
       "Name: proportion, Length: 203701, dtype: float64"
      ]
     },
     "execution_count": 38,
     "metadata": {},
     "output_type": "execute_result"
    }
   ],
   "source": [
    "(\n",
    "    data['description']\n",
    "    .value_counts(normalize = True,dropna=False)*100\n",
    ")"
   ]
  },
  {
   "cell_type": "markdown",
   "metadata": {},
   "source": [
    "- droping the description column for now , as we need the NLP analysis on the column to extract the features from the description of the property. This is out of scope for this project."
   ]
  },
  {
   "cell_type": "code",
   "execution_count": 39,
   "metadata": {},
   "outputs": [
    {
     "data": {
      "text/plain": [
       "regio1\n",
       "Nordrhein_Westfalen       23.638866\n",
       "Sachsen                   21.427035\n",
       "Bayern                     8.007476\n",
       "Sachsen_Anhalt             7.404960\n",
       "Hessen                     6.644094\n",
       "Niedersachsen              6.215568\n",
       "Baden_Württemberg          5.982538\n",
       "Berlin                     3.925931\n",
       "Rheinland_Pfalz            3.144342\n",
       "Thüringen                  3.074746\n",
       "Brandenburg                2.534397\n",
       "Schleswig_Holstein         2.515239\n",
       "Mecklenburg_Vorpommern     2.445643\n",
       "Hamburg                    1.405609\n",
       "Bremen                     1.108457\n",
       "Saarland                   0.525100\n",
       "Name: proportion, dtype: float64"
      ]
     },
     "execution_count": 39,
     "metadata": {},
     "output_type": "execute_result"
    }
   ],
   "source": [
    "(\n",
    "    data\n",
    "    .regio1\n",
    "    .value_counts(normalize = True,dropna=False)*100\n",
    ")"
   ]
  },
  {
   "cell_type": "markdown",
   "metadata": {},
   "source": [
    "#### geo_bln"
   ]
  },
  {
   "cell_type": "code",
   "execution_count": 40,
   "metadata": {},
   "outputs": [
    {
     "data": {
      "text/plain": [
       "geo_bln\n",
       "Nordrhein_Westfalen       23.638866\n",
       "Sachsen                   21.427035\n",
       "Bayern                     8.007476\n",
       "Sachsen_Anhalt             7.404960\n",
       "Hessen                     6.644094\n",
       "Niedersachsen              6.215568\n",
       "Baden_Württemberg          5.982538\n",
       "Berlin                     3.925931\n",
       "Rheinland_Pfalz            3.144342\n",
       "Thüringen                  3.074746\n",
       "Brandenburg                2.534397\n",
       "Schleswig_Holstein         2.515239\n",
       "Mecklenburg_Vorpommern     2.445643\n",
       "Hamburg                    1.405609\n",
       "Bremen                     1.108457\n",
       "Saarland                   0.525100\n",
       "Name: proportion, dtype: float64"
      ]
     },
     "execution_count": 40,
     "metadata": {},
     "output_type": "execute_result"
    }
   ],
   "source": [
    "(\n",
    "    data\n",
    "    .geo_bln\n",
    "    .value_counts(normalize = True,dropna=False)*100\n",
    ")"
   ]
  },
  {
   "cell_type": "markdown",
   "metadata": {},
   "source": [
    "#### geo_krs"
   ]
  },
  {
   "cell_type": "code",
   "execution_count": 41,
   "metadata": {},
   "outputs": [
    {
     "data": {
      "text/plain": [
       "geo_krs\n",
       "Leipzig                         5.071923\n",
       "Chemnitz                        4.628540\n",
       "Berlin                          3.925931\n",
       "Dresden                         2.790496\n",
       "Magdeburg                       1.835698\n",
       "                                  ...   \n",
       "Lichtenfels_Kreis               0.011339\n",
       "Rhön_Grabfeld_Kreis             0.010557\n",
       "Haßberge_Kreis                  0.008993\n",
       "Neustadt_a.d._Waldnaab_Kreis    0.006256\n",
       "Kronach_Kreis                   0.004301\n",
       "Name: proportion, Length: 419, dtype: float64"
      ]
     },
     "execution_count": 41,
     "metadata": {},
     "output_type": "execute_result"
    }
   ],
   "source": [
    "(\n",
    "    data\n",
    "    .geo_krs\n",
    "    .value_counts(normalize = True,dropna=False)*100\n",
    "    \n",
    ")"
   ]
  },
  {
   "cell_type": "code",
   "execution_count": 42,
   "metadata": {},
   "outputs": [
    {
     "data": {
      "text/plain": [
       "Index(['regio1', 'heatingType', 'telekomTvOffer', 'firingTypes', 'geo_bln',\n",
       "       'houseNumber', 'geo_krs', 'condition', 'interiorQual', 'petsAllowed',\n",
       "       'street', 'streetPlain', 'typeOfFlat', 'regio2', 'regio3',\n",
       "       'description', 'facilities', 'energyEfficiencyClass', 'date',\n",
       "       'geo_plz_2', 'cityName_mapped'],\n",
       "      dtype='object')"
      ]
     },
     "execution_count": 42,
     "metadata": {},
     "output_type": "execute_result"
    }
   ],
   "source": [
    "(\n",
    "    data\n",
    "    .select_dtypes(include = 'object')\n",
    "    .columns\n",
    ")"
   ]
  },
  {
   "cell_type": "markdown",
   "metadata": {},
   "source": [
    "#### street"
   ]
  },
  {
   "cell_type": "code",
   "execution_count": 43,
   "metadata": {},
   "outputs": [
    {
     "data": {
      "text/plain": [
       "street\n",
       "no_information               26.392609\n",
       "Hauptstra&szlig;e             0.351109\n",
       "Bahnhofstra&szlig;e           0.317875\n",
       "Leipziger Stra&szlig;e        0.162652\n",
       "Bahnhofstr.                   0.154441\n",
       "                               ...    \n",
       "Barkhausstra&szlig;e          0.000391\n",
       "Kettenstr                     0.000391\n",
       "Im Neugl&auml;nd              0.000391\n",
       "Habererweg                    0.000391\n",
       "Robert-Di&szlig;mann-Str.     0.000391\n",
       "Name: proportion, Length: 51113, dtype: float64"
      ]
     },
     "execution_count": 43,
     "metadata": {},
     "output_type": "execute_result"
    }
   ],
   "source": [
    "(\n",
    "    data\n",
    "    .street\n",
    "    .value_counts(normalize = True,dropna=False)*100\n",
    ")"
   ]
  },
  {
   "cell_type": "code",
   "execution_count": 44,
   "metadata": {},
   "outputs": [
    {
     "data": {
      "text/plain": [
       "Index(['regio1', 'heatingType', 'telekomTvOffer', 'firingTypes', 'geo_bln',\n",
       "       'houseNumber', 'geo_krs', 'condition', 'interiorQual', 'petsAllowed',\n",
       "       'street', 'streetPlain', 'typeOfFlat', 'regio2', 'regio3',\n",
       "       'description', 'facilities', 'energyEfficiencyClass', 'date',\n",
       "       'geo_plz_2', 'cityName_mapped'],\n",
       "      dtype='object')"
      ]
     },
     "execution_count": 44,
     "metadata": {},
     "output_type": "execute_result"
    }
   ],
   "source": [
    "(\n",
    "    data\n",
    "    .select_dtypes(include = 'object')\n",
    "    .columns\n",
    ")"
   ]
  },
  {
   "cell_type": "markdown",
   "metadata": {},
   "source": [
    "#### regio1"
   ]
  },
  {
   "cell_type": "code",
   "execution_count": 45,
   "metadata": {},
   "outputs": [
    {
     "data": {
      "text/plain": [
       "regio1\n",
       "Nordrhein_Westfalen       60459\n",
       "Sachsen                   54802\n",
       "Bayern                    20480\n",
       "Sachsen_Anhalt            18939\n",
       "Hessen                    16993\n",
       "Niedersachsen             15897\n",
       "Baden_Württemberg         15301\n",
       "Berlin                    10041\n",
       "Rheinland_Pfalz            8042\n",
       "Thüringen                  7864\n",
       "Brandenburg                6482\n",
       "Schleswig_Holstein         6433\n",
       "Mecklenburg_Vorpommern     6255\n",
       "Hamburg                    3595\n",
       "Bremen                     2835\n",
       "Saarland                   1343\n",
       "Name: count, dtype: int64"
      ]
     },
     "execution_count": 45,
     "metadata": {},
     "output_type": "execute_result"
    }
   ],
   "source": [
    "data.regio1.value_counts()"
   ]
  },
  {
   "cell_type": "markdown",
   "metadata": {},
   "source": [
    "- regio1 refers to the german state names"
   ]
  },
  {
   "cell_type": "markdown",
   "metadata": {},
   "source": [
    "#### regio2"
   ]
  },
  {
   "cell_type": "code",
   "execution_count": 46,
   "metadata": {},
   "outputs": [
    {
     "data": {
      "text/plain": [
       "regio2\n",
       "Leipzig                         5.071923\n",
       "Chemnitz                        4.628540\n",
       "Berlin                          3.925931\n",
       "Dresden                         2.790496\n",
       "Magdeburg                       1.835698\n",
       "                                  ...   \n",
       "Lichtenfels_Kreis               0.011339\n",
       "Rhön_Grabfeld_Kreis             0.010557\n",
       "Haßberge_Kreis                  0.008993\n",
       "Neustadt_a.d._Waldnaab_Kreis    0.006256\n",
       "Kronach_Kreis                   0.004301\n",
       "Name: proportion, Length: 419, dtype: float64"
      ]
     },
     "execution_count": 46,
     "metadata": {},
     "output_type": "execute_result"
    }
   ],
   "source": [
    "(\n",
    "    data\n",
    "    .regio2\n",
    "    .value_counts(normalize = True,dropna=False)*100\n",
    ")"
   ]
  },
  {
   "cell_type": "markdown",
   "metadata": {},
   "source": [
    "region2 has german city names"
   ]
  },
  {
   "cell_type": "markdown",
   "metadata": {},
   "source": [
    "#### regio3"
   ]
  },
  {
   "cell_type": "code",
   "execution_count": 47,
   "metadata": {},
   "outputs": [
    {
     "data": {
      "text/plain": [
       "regio3\n",
       "Innenstadt       1.779005\n",
       "Stadtmitte       0.996243\n",
       "Altstadt         0.874254\n",
       "Sonnenberg       0.707301\n",
       "Kaßberg          0.628712\n",
       "                   ...   \n",
       "Alt_Wolfsburg    0.000391\n",
       "Clenze           0.000391\n",
       "Lühmannsdorf     0.000391\n",
       "Friedersdorf     0.000391\n",
       "Eberfing         0.000391\n",
       "Name: proportion, Length: 8600, dtype: float64"
      ]
     },
     "execution_count": 47,
     "metadata": {},
     "output_type": "execute_result"
    }
   ],
   "source": [
    "(\n",
    "    data\n",
    "    .regio3\n",
    "    .value_counts(normalize = True,dropna=False)*100\n",
    ")"
   ]
  },
  {
   "cell_type": "markdown",
   "metadata": {},
   "source": [
    "regio3 has german city district names"
   ]
  },
  {
   "cell_type": "code",
   "execution_count": 48,
   "metadata": {},
   "outputs": [],
   "source": [
    "# renaming the regio columns\n",
    "data = data.rename(columns={'regio1': 'stateName',\n",
    "                            'regio2': 'cityName',\n",
    "                            'regio3':'cityDistrict'})"
   ]
  },
  {
   "cell_type": "markdown",
   "metadata": {},
   "source": [
    "#### Drop the categorical columns after analysis "
   ]
  },
  {
   "cell_type": "code",
   "execution_count": 49,
   "metadata": {},
   "outputs": [
    {
     "data": {
      "text/plain": [
       "(255761, 55)"
      ]
     },
     "execution_count": 49,
     "metadata": {},
     "output_type": "execute_result"
    }
   ],
   "source": [
    "data.shape"
   ]
  },
  {
   "cell_type": "code",
   "execution_count": 50,
   "metadata": {},
   "outputs": [],
   "source": [
    "data.drop(['energyEfficiencyClass'],axis=1, inplace= True)\n",
    "data.drop(['houseNumber'],axis=1, inplace= True)\n",
    "data.drop(['streetPlain'],axis=1, inplace= True)\n",
    "data.drop(['facilities'],axis=1, inplace= True)\n",
    "data.drop(['description'],axis=1, inplace= True)\n",
    "data.drop(['street'],axis=1, inplace= True)\n",
    "data.drop(['geo_bln'],axis=1, inplace= True) # geo_bln has same information as stateName\n",
    "data.drop(['geo_krs'],axis=1, inplace= True) # geo_krs has same information as cityName\n",
    "data.drop(['noRoomsRange'],axis=1, inplace= True) # noRooms has same information as noRoomsRange"
   ]
  },
  {
   "cell_type": "code",
   "execution_count": 51,
   "metadata": {},
   "outputs": [
    {
     "data": {
      "text/plain": [
       "(255761, 46)"
      ]
     },
     "execution_count": 51,
     "metadata": {},
     "output_type": "execute_result"
    }
   ],
   "source": [
    "data.shape"
   ]
  },
  {
   "cell_type": "code",
   "execution_count": 52,
   "metadata": {},
   "outputs": [
    {
     "data": {
      "text/html": [
       "<div>\n",
       "<style scoped>\n",
       "    .dataframe tbody tr th:only-of-type {\n",
       "        vertical-align: middle;\n",
       "    }\n",
       "\n",
       "    .dataframe tbody tr th {\n",
       "        vertical-align: top;\n",
       "    }\n",
       "\n",
       "    .dataframe thead th {\n",
       "        text-align: right;\n",
       "    }\n",
       "</style>\n",
       "<table border=\"1\" class=\"dataframe\">\n",
       "  <thead>\n",
       "    <tr style=\"text-align: right;\">\n",
       "      <th></th>\n",
       "      <th>stateName</th>\n",
       "      <th>heatingType</th>\n",
       "      <th>telekomTvOffer</th>\n",
       "      <th>firingTypes</th>\n",
       "      <th>condition</th>\n",
       "      <th>interiorQual</th>\n",
       "      <th>petsAllowed</th>\n",
       "      <th>typeOfFlat</th>\n",
       "      <th>cityName</th>\n",
       "      <th>cityDistrict</th>\n",
       "      <th>date</th>\n",
       "      <th>geo_plz_2</th>\n",
       "      <th>cityName_mapped</th>\n",
       "    </tr>\n",
       "  </thead>\n",
       "  <tbody>\n",
       "    <tr>\n",
       "      <th>0</th>\n",
       "      <td>Nordrhein_Westfalen</td>\n",
       "      <td>central_heating</td>\n",
       "      <td>ONE_YEAR_FREE</td>\n",
       "      <td>oil</td>\n",
       "      <td>well_kept</td>\n",
       "      <td>normal</td>\n",
       "      <td>unknown</td>\n",
       "      <td>ground_floor</td>\n",
       "      <td>Dortmund</td>\n",
       "      <td>Schüren</td>\n",
       "      <td>May19</td>\n",
       "      <td>44</td>\n",
       "      <td>Dortmund</td>\n",
       "    </tr>\n",
       "    <tr>\n",
       "      <th>1</th>\n",
       "      <td>Rheinland_Pfalz</td>\n",
       "      <td>self_contained_central_heating</td>\n",
       "      <td>ONE_YEAR_FREE</td>\n",
       "      <td>gas</td>\n",
       "      <td>refurbished</td>\n",
       "      <td>normal</td>\n",
       "      <td>no</td>\n",
       "      <td>ground_floor</td>\n",
       "      <td>Rhein_Pfalz_Kreis</td>\n",
       "      <td>Böhl_Iggelheim</td>\n",
       "      <td>May19</td>\n",
       "      <td>67</td>\n",
       "      <td>Ludwigshafen am Rhein</td>\n",
       "    </tr>\n",
       "  </tbody>\n",
       "</table>\n",
       "</div>"
      ],
      "text/plain": [
       "             stateName                     heatingType telekomTvOffer  \\\n",
       "0  Nordrhein_Westfalen                 central_heating  ONE_YEAR_FREE   \n",
       "1      Rheinland_Pfalz  self_contained_central_heating  ONE_YEAR_FREE   \n",
       "\n",
       "  firingTypes    condition interiorQual petsAllowed    typeOfFlat  \\\n",
       "0         oil    well_kept       normal     unknown  ground_floor   \n",
       "1         gas  refurbished       normal          no  ground_floor   \n",
       "\n",
       "            cityName    cityDistrict   date geo_plz_2        cityName_mapped  \n",
       "0           Dortmund         Schüren  May19        44               Dortmund  \n",
       "1  Rhein_Pfalz_Kreis  Böhl_Iggelheim  May19        67  Ludwigshafen am Rhein  "
      ]
     },
     "execution_count": 52,
     "metadata": {},
     "output_type": "execute_result"
    }
   ],
   "source": [
    "(\n",
    "    data\n",
    "    .select_dtypes(include=['object'])\n",
    "    .head(2)\n",
    ")"
   ]
  },
  {
   "cell_type": "code",
   "execution_count": 53,
   "metadata": {},
   "outputs": [
    {
     "data": {
      "text/plain": [
       "13"
      ]
     },
     "execution_count": 53,
     "metadata": {},
     "output_type": "execute_result"
    }
   ],
   "source": [
    "(\n",
    "    data\n",
    "    .select_dtypes(include=['object'])\n",
    "    .columns\n",
    "    .nunique()\n",
    ")"
   ]
  },
  {
   "cell_type": "code",
   "execution_count": 54,
   "metadata": {},
   "outputs": [
    {
     "data": {
      "text/plain": [
       "stateName          0\n",
       "heatingType        0\n",
       "telekomTvOffer     0\n",
       "firingTypes        0\n",
       "condition          0\n",
       "interiorQual       0\n",
       "petsAllowed        0\n",
       "typeOfFlat         0\n",
       "cityName           0\n",
       "cityDistrict       0\n",
       "date               0\n",
       "geo_plz_2          0\n",
       "cityName_mapped    0\n",
       "dtype: int64"
      ]
     },
     "execution_count": 54,
     "metadata": {},
     "output_type": "execute_result"
    }
   ],
   "source": [
    "(\n",
    "    data\n",
    "    .select_dtypes(include=['object'])\n",
    "    .isna()\n",
    "    .sum()\n",
    ")"
   ]
  },
  {
   "cell_type": "markdown",
   "metadata": {},
   "source": [
    "### 4.2 Numerical Features"
   ]
  },
  {
   "cell_type": "code",
   "execution_count": 55,
   "metadata": {},
   "outputs": [],
   "source": [
    "data['geo_plz'] = data['geo_plz'].astype(str).str.zfill(5)"
   ]
  },
  {
   "cell_type": "code",
   "execution_count": 56,
   "metadata": {},
   "outputs": [
    {
     "data": {
      "text/html": [
       "<div>\n",
       "<style scoped>\n",
       "    .dataframe tbody tr th:only-of-type {\n",
       "        vertical-align: middle;\n",
       "    }\n",
       "\n",
       "    .dataframe tbody tr th {\n",
       "        vertical-align: top;\n",
       "    }\n",
       "\n",
       "    .dataframe thead th {\n",
       "        text-align: right;\n",
       "    }\n",
       "</style>\n",
       "<table border=\"1\" class=\"dataframe\">\n",
       "  <thead>\n",
       "    <tr style=\"text-align: right;\">\n",
       "      <th></th>\n",
       "      <th>serviceCharge</th>\n",
       "      <th>telekomHybridUploadSpeed</th>\n",
       "      <th>picturecount</th>\n",
       "      <th>pricetrend</th>\n",
       "      <th>telekomUploadSpeed</th>\n",
       "      <th>totalRent</th>\n",
       "      <th>yearConstructed</th>\n",
       "      <th>scoutId</th>\n",
       "      <th>noParkSpaces</th>\n",
       "      <th>yearConstructedRange</th>\n",
       "      <th>baseRent</th>\n",
       "      <th>livingSpace</th>\n",
       "      <th>baseRentRange</th>\n",
       "      <th>noRooms</th>\n",
       "      <th>thermalChar</th>\n",
       "      <th>floor</th>\n",
       "      <th>numberOfFloors</th>\n",
       "      <th>livingSpaceRange</th>\n",
       "      <th>heatingCosts</th>\n",
       "      <th>lastRefurbish</th>\n",
       "      <th>electricityBasePrice</th>\n",
       "      <th>electricityKwhPrice</th>\n",
       "      <th>residents</th>\n",
       "      <th>zip_area_sq_km</th>\n",
       "      <th>lat</th>\n",
       "      <th>lon</th>\n",
       "    </tr>\n",
       "  </thead>\n",
       "  <tbody>\n",
       "    <tr>\n",
       "      <th>count</th>\n",
       "      <td>249518.000000</td>\n",
       "      <td>42712.0</td>\n",
       "      <td>255761.000000</td>\n",
       "      <td>253984.000000</td>\n",
       "      <td>224414.000000</td>\n",
       "      <td>2.175130e+05</td>\n",
       "      <td>202827.000000</td>\n",
       "      <td>2.557610e+05</td>\n",
       "      <td>89616.000000</td>\n",
       "      <td>202827.000000</td>\n",
       "      <td>2.557610e+05</td>\n",
       "      <td>255761.000000</td>\n",
       "      <td>255761.000000</td>\n",
       "      <td>255761.000000</td>\n",
       "      <td>155278.000000</td>\n",
       "      <td>207713.000000</td>\n",
       "      <td>165128.000000</td>\n",
       "      <td>255761.000000</td>\n",
       "      <td>80914.000000</td>\n",
       "      <td>78220.000000</td>\n",
       "      <td>44478.000000</td>\n",
       "      <td>44478.000000</td>\n",
       "      <td>255761.000000</td>\n",
       "      <td>255761.000000</td>\n",
       "      <td>255761.000000</td>\n",
       "      <td>255761.000000</td>\n",
       "    </tr>\n",
       "    <tr>\n",
       "      <th>mean</th>\n",
       "      <td>151.898845</td>\n",
       "      <td>10.0</td>\n",
       "      <td>9.834525</td>\n",
       "      <td>3.396923</td>\n",
       "      <td>28.827425</td>\n",
       "      <td>9.077364e+02</td>\n",
       "      <td>1966.418100</td>\n",
       "      <td>1.069069e+08</td>\n",
       "      <td>1.328881</td>\n",
       "      <td>3.718248</td>\n",
       "      <td>6.587593e+02</td>\n",
       "      <td>74.596986</td>\n",
       "      <td>3.777206</td>\n",
       "      <td>2.642410</td>\n",
       "      <td>114.838112</td>\n",
       "      <td>2.116285</td>\n",
       "      <td>3.565937</td>\n",
       "      <td>3.081600</td>\n",
       "      <td>77.028933</td>\n",
       "      <td>2013.910675</td>\n",
       "      <td>89.114616</td>\n",
       "      <td>0.199717</td>\n",
       "      <td>19711.874785</td>\n",
       "      <td>36.817297</td>\n",
       "      <td>51.134275</td>\n",
       "      <td>10.239344</td>\n",
       "    </tr>\n",
       "    <tr>\n",
       "      <th>std</th>\n",
       "      <td>314.608121</td>\n",
       "      <td>0.0</td>\n",
       "      <td>6.413294</td>\n",
       "      <td>1.962772</td>\n",
       "      <td>16.321163</td>\n",
       "      <td>3.405475e+04</td>\n",
       "      <td>47.099747</td>\n",
       "      <td>1.258983e+07</td>\n",
       "      <td>8.490675</td>\n",
       "      <td>2.739915</td>\n",
       "      <td>3.199138e+03</td>\n",
       "      <td>260.543566</td>\n",
       "      <td>2.211566</td>\n",
       "      <td>1.809167</td>\n",
       "      <td>61.304373</td>\n",
       "      <td>3.402504</td>\n",
       "      <td>6.474648</td>\n",
       "      <td>1.409066</td>\n",
       "      <td>145.244594</td>\n",
       "      <td>10.555240</td>\n",
       "      <td>5.394315</td>\n",
       "      <td>0.009671</td>\n",
       "      <td>8982.487799</td>\n",
       "      <td>62.348478</td>\n",
       "      <td>1.379721</td>\n",
       "      <td>2.444342</td>\n",
       "    </tr>\n",
       "    <tr>\n",
       "      <th>min</th>\n",
       "      <td>0.000000</td>\n",
       "      <td>10.0</td>\n",
       "      <td>0.000000</td>\n",
       "      <td>-12.330000</td>\n",
       "      <td>1.000000</td>\n",
       "      <td>0.000000e+00</td>\n",
       "      <td>1000.000000</td>\n",
       "      <td>2.887174e+07</td>\n",
       "      <td>0.000000</td>\n",
       "      <td>1.000000</td>\n",
       "      <td>0.000000e+00</td>\n",
       "      <td>0.000000</td>\n",
       "      <td>1.000000</td>\n",
       "      <td>1.000000</td>\n",
       "      <td>0.100000</td>\n",
       "      <td>-1.000000</td>\n",
       "      <td>0.000000</td>\n",
       "      <td>1.000000</td>\n",
       "      <td>0.000000</td>\n",
       "      <td>1015.000000</td>\n",
       "      <td>71.430000</td>\n",
       "      <td>0.170500</td>\n",
       "      <td>0.000000</td>\n",
       "      <td>0.001829</td>\n",
       "      <td>47.370850</td>\n",
       "      <td>5.984790</td>\n",
       "    </tr>\n",
       "    <tr>\n",
       "      <th>25%</th>\n",
       "      <td>95.000000</td>\n",
       "      <td>10.0</td>\n",
       "      <td>6.000000</td>\n",
       "      <td>2.000000</td>\n",
       "      <td>10.000000</td>\n",
       "      <td>4.700000e+02</td>\n",
       "      <td>1950.000000</td>\n",
       "      <td>1.066754e+08</td>\n",
       "      <td>1.000000</td>\n",
       "      <td>1.000000</td>\n",
       "      <td>3.400000e+02</td>\n",
       "      <td>54.250000</td>\n",
       "      <td>2.000000</td>\n",
       "      <td>2.000000</td>\n",
       "      <td>79.000000</td>\n",
       "      <td>1.000000</td>\n",
       "      <td>2.000000</td>\n",
       "      <td>2.000000</td>\n",
       "      <td>54.000000</td>\n",
       "      <td>2012.000000</td>\n",
       "      <td>90.760000</td>\n",
       "      <td>0.191500</td>\n",
       "      <td>13930.000000</td>\n",
       "      <td>5.088087</td>\n",
       "      <td>50.618400</td>\n",
       "      <td>7.954200</td>\n",
       "    </tr>\n",
       "    <tr>\n",
       "      <th>50%</th>\n",
       "      <td>135.020000</td>\n",
       "      <td>10.0</td>\n",
       "      <td>9.000000</td>\n",
       "      <td>3.390000</td>\n",
       "      <td>40.000000</td>\n",
       "      <td>6.500000e+02</td>\n",
       "      <td>1973.000000</td>\n",
       "      <td>1.111519e+08</td>\n",
       "      <td>1.000000</td>\n",
       "      <td>3.000000</td>\n",
       "      <td>4.947000e+02</td>\n",
       "      <td>67.710000</td>\n",
       "      <td>3.000000</td>\n",
       "      <td>3.000000</td>\n",
       "      <td>107.000000</td>\n",
       "      <td>2.000000</td>\n",
       "      <td>3.000000</td>\n",
       "      <td>3.000000</td>\n",
       "      <td>70.000000</td>\n",
       "      <td>2017.000000</td>\n",
       "      <td>90.760000</td>\n",
       "      <td>0.198500</td>\n",
       "      <td>19071.000000</td>\n",
       "      <td>14.536409</td>\n",
       "      <td>51.243900</td>\n",
       "      <td>10.282930</td>\n",
       "    </tr>\n",
       "    <tr>\n",
       "      <th>75%</th>\n",
       "      <td>190.000000</td>\n",
       "      <td>10.0</td>\n",
       "      <td>13.000000</td>\n",
       "      <td>4.580000</td>\n",
       "      <td>40.000000</td>\n",
       "      <td>9.896100e+02</td>\n",
       "      <td>1996.000000</td>\n",
       "      <td>1.137673e+08</td>\n",
       "      <td>1.000000</td>\n",
       "      <td>5.000000</td>\n",
       "      <td>8.000000e+02</td>\n",
       "      <td>87.000000</td>\n",
       "      <td>5.000000</td>\n",
       "      <td>3.000000</td>\n",
       "      <td>140.800000</td>\n",
       "      <td>3.000000</td>\n",
       "      <td>4.000000</td>\n",
       "      <td>4.000000</td>\n",
       "      <td>90.000000</td>\n",
       "      <td>2019.000000</td>\n",
       "      <td>90.760000</td>\n",
       "      <td>0.205500</td>\n",
       "      <td>24234.000000</td>\n",
       "      <td>45.870321</td>\n",
       "      <td>51.783650</td>\n",
       "      <td>12.387460</td>\n",
       "    </tr>\n",
       "    <tr>\n",
       "      <th>max</th>\n",
       "      <td>146118.000000</td>\n",
       "      <td>10.0</td>\n",
       "      <td>121.000000</td>\n",
       "      <td>14.920000</td>\n",
       "      <td>100.000000</td>\n",
       "      <td>1.575154e+07</td>\n",
       "      <td>2090.000000</td>\n",
       "      <td>1.157117e+08</td>\n",
       "      <td>2241.000000</td>\n",
       "      <td>9.000000</td>\n",
       "      <td>1.234567e+06</td>\n",
       "      <td>111111.000000</td>\n",
       "      <td>9.000000</td>\n",
       "      <td>560.000000</td>\n",
       "      <td>1996.000000</td>\n",
       "      <td>999.000000</td>\n",
       "      <td>999.000000</td>\n",
       "      <td>7.000000</td>\n",
       "      <td>12613.000000</td>\n",
       "      <td>2919.000000</td>\n",
       "      <td>90.760000</td>\n",
       "      <td>0.227600</td>\n",
       "      <td>58782.000000</td>\n",
       "      <td>891.943577</td>\n",
       "      <td>55.023920</td>\n",
       "      <td>14.979570</td>\n",
       "    </tr>\n",
       "  </tbody>\n",
       "</table>\n",
       "</div>"
      ],
      "text/plain": [
       "       serviceCharge  telekomHybridUploadSpeed   picturecount     pricetrend  \\\n",
       "count  249518.000000                   42712.0  255761.000000  253984.000000   \n",
       "mean      151.898845                      10.0       9.834525       3.396923   \n",
       "std       314.608121                       0.0       6.413294       1.962772   \n",
       "min         0.000000                      10.0       0.000000     -12.330000   \n",
       "25%        95.000000                      10.0       6.000000       2.000000   \n",
       "50%       135.020000                      10.0       9.000000       3.390000   \n",
       "75%       190.000000                      10.0      13.000000       4.580000   \n",
       "max    146118.000000                      10.0     121.000000      14.920000   \n",
       "\n",
       "       telekomUploadSpeed     totalRent  yearConstructed       scoutId  \\\n",
       "count       224414.000000  2.175130e+05    202827.000000  2.557610e+05   \n",
       "mean            28.827425  9.077364e+02      1966.418100  1.069069e+08   \n",
       "std             16.321163  3.405475e+04        47.099747  1.258983e+07   \n",
       "min              1.000000  0.000000e+00      1000.000000  2.887174e+07   \n",
       "25%             10.000000  4.700000e+02      1950.000000  1.066754e+08   \n",
       "50%             40.000000  6.500000e+02      1973.000000  1.111519e+08   \n",
       "75%             40.000000  9.896100e+02      1996.000000  1.137673e+08   \n",
       "max            100.000000  1.575154e+07      2090.000000  1.157117e+08   \n",
       "\n",
       "       noParkSpaces  yearConstructedRange      baseRent    livingSpace  \\\n",
       "count  89616.000000         202827.000000  2.557610e+05  255761.000000   \n",
       "mean       1.328881              3.718248  6.587593e+02      74.596986   \n",
       "std        8.490675              2.739915  3.199138e+03     260.543566   \n",
       "min        0.000000              1.000000  0.000000e+00       0.000000   \n",
       "25%        1.000000              1.000000  3.400000e+02      54.250000   \n",
       "50%        1.000000              3.000000  4.947000e+02      67.710000   \n",
       "75%        1.000000              5.000000  8.000000e+02      87.000000   \n",
       "max     2241.000000              9.000000  1.234567e+06  111111.000000   \n",
       "\n",
       "       baseRentRange        noRooms    thermalChar          floor  \\\n",
       "count  255761.000000  255761.000000  155278.000000  207713.000000   \n",
       "mean        3.777206       2.642410     114.838112       2.116285   \n",
       "std         2.211566       1.809167      61.304373       3.402504   \n",
       "min         1.000000       1.000000       0.100000      -1.000000   \n",
       "25%         2.000000       2.000000      79.000000       1.000000   \n",
       "50%         3.000000       3.000000     107.000000       2.000000   \n",
       "75%         5.000000       3.000000     140.800000       3.000000   \n",
       "max         9.000000     560.000000    1996.000000     999.000000   \n",
       "\n",
       "       numberOfFloors  livingSpaceRange  heatingCosts  lastRefurbish  \\\n",
       "count   165128.000000     255761.000000  80914.000000   78220.000000   \n",
       "mean         3.565937          3.081600     77.028933    2013.910675   \n",
       "std          6.474648          1.409066    145.244594      10.555240   \n",
       "min          0.000000          1.000000      0.000000    1015.000000   \n",
       "25%          2.000000          2.000000     54.000000    2012.000000   \n",
       "50%          3.000000          3.000000     70.000000    2017.000000   \n",
       "75%          4.000000          4.000000     90.000000    2019.000000   \n",
       "max        999.000000          7.000000  12613.000000    2919.000000   \n",
       "\n",
       "       electricityBasePrice  electricityKwhPrice      residents  \\\n",
       "count          44478.000000         44478.000000  255761.000000   \n",
       "mean              89.114616             0.199717   19711.874785   \n",
       "std                5.394315             0.009671    8982.487799   \n",
       "min               71.430000             0.170500       0.000000   \n",
       "25%               90.760000             0.191500   13930.000000   \n",
       "50%               90.760000             0.198500   19071.000000   \n",
       "75%               90.760000             0.205500   24234.000000   \n",
       "max               90.760000             0.227600   58782.000000   \n",
       "\n",
       "       zip_area_sq_km            lat            lon  \n",
       "count   255761.000000  255761.000000  255761.000000  \n",
       "mean        36.817297      51.134275      10.239344  \n",
       "std         62.348478       1.379721       2.444342  \n",
       "min          0.001829      47.370850       5.984790  \n",
       "25%          5.088087      50.618400       7.954200  \n",
       "50%         14.536409      51.243900      10.282930  \n",
       "75%         45.870321      51.783650      12.387460  \n",
       "max        891.943577      55.023920      14.979570  "
      ]
     },
     "execution_count": 56,
     "metadata": {},
     "output_type": "execute_result"
    }
   ],
   "source": [
    "(\n",
    "    data\n",
    "    .select_dtypes(include=['number'])\n",
    "    .describe()\n",
    ")"
   ]
  },
  {
   "cell_type": "code",
   "execution_count": 57,
   "metadata": {},
   "outputs": [
    {
     "data": {
      "text/plain": [
       "telekomHybridUploadSpeed    83.300034\n",
       "electricityBasePrice        82.609546\n",
       "electricityKwhPrice         82.609546\n",
       "lastRefurbish               69.416760\n",
       "heatingCosts                68.363433\n",
       "noParkSpaces                64.961038\n",
       "thermalChar                 39.287851\n",
       "numberOfFloors              35.436599\n",
       "yearConstructedRange        20.696666\n",
       "yearConstructed             20.696666\n",
       "floor                       18.786289\n",
       "totalRent                   14.954587\n",
       "telekomUploadSpeed          12.256364\n",
       "serviceCharge                2.440951\n",
       "pricetrend                   0.694789\n",
       "zip_area_sq_km               0.000000\n",
       "residents                    0.000000\n",
       "lat                          0.000000\n",
       "noRooms                      0.000000\n",
       "livingSpaceRange             0.000000\n",
       "baseRentRange                0.000000\n",
       "livingSpace                  0.000000\n",
       "baseRent                     0.000000\n",
       "scoutId                      0.000000\n",
       "picturecount                 0.000000\n",
       "lon                          0.000000\n",
       "dtype: float64"
      ]
     },
     "execution_count": 57,
     "metadata": {},
     "output_type": "execute_result"
    }
   ],
   "source": [
    "(\n",
    "    data\n",
    "    .select_dtypes(include=['number'])\n",
    "    .isna()\n",
    "    .sum()\n",
    "    .div(len(data))\n",
    "    .mul(100)\n",
    "    .sort_values(ascending=False)\n",
    ")"
   ]
  },
  {
   "cell_type": "code",
   "execution_count": 58,
   "metadata": {},
   "outputs": [
    {
     "name": "stdout",
     "output_type": "stream",
     "text": [
      "size of full dataframe: (255761, 46)\n",
      "Size of categorical features: (255761, 20)\n",
      "size of numerical features: (255761, 26)\n",
      "size of dataframe: (255761, 17)\n"
     ]
    }
   ],
   "source": [
    "print(f'size of full dataframe: {data.shape}')\n",
    "print(f\"Size of categorical features: {data.select_dtypes(include=['bool', 'object']).shape}\")\n",
    "print(f\"size of numerical features: {data.select_dtypes(include = ['number']).shape}\")\n",
    "\n",
    "\n",
    "# drop scoutId colum \n",
    "data = data.drop('scoutId', axis=1)\n",
    "\n",
    "\n",
    "\n",
    "# drop the columns which has more than 25% null values \n",
    "data_num = (\n",
    "    data\n",
    "    .select_dtypes(include=['number'])\n",
    "    .dropna(axis=1, thresh=int(0.75 * len(data)))\n",
    ")\n",
    "\n",
    "print(f'size of dataframe: {data_num.shape}')"
   ]
  },
  {
   "cell_type": "code",
   "execution_count": 59,
   "metadata": {},
   "outputs": [
    {
     "data": {
      "text/plain": [
       "(255761, 37)"
      ]
     },
     "execution_count": 59,
     "metadata": {},
     "output_type": "execute_result"
    }
   ],
   "source": [
    "data = pd.concat([data_num,data.select_dtypes(include=['object','bool'])], axis= 1)\n",
    "data.shape"
   ]
  },
  {
   "cell_type": "code",
   "execution_count": 60,
   "metadata": {},
   "outputs": [
    {
     "data": {
      "text/plain": [
       "yearConstructed         20.696666\n",
       "yearConstructedRange    20.696666\n",
       "floor                   18.786289\n",
       "totalRent               14.954587\n",
       "telekomUploadSpeed      12.256364\n",
       "serviceCharge            2.440951\n",
       "pricetrend               0.694789\n",
       "lat                      0.000000\n",
       "zip_area_sq_km           0.000000\n",
       "residents                0.000000\n",
       "livingSpaceRange         0.000000\n",
       "livingSpace              0.000000\n",
       "noRooms                  0.000000\n",
       "baseRentRange            0.000000\n",
       "picturecount             0.000000\n",
       "baseRent                 0.000000\n",
       "lon                      0.000000\n",
       "dtype: float64"
      ]
     },
     "execution_count": 60,
     "metadata": {},
     "output_type": "execute_result"
    }
   ],
   "source": [
    "(\n",
    "    data\n",
    "    .select_dtypes(include=['number'])\n",
    "    .isna()\n",
    "    .sum()\n",
    "    .div(len(data))\n",
    "    .mul(100)\n",
    "    .sort_values(ascending=False)\n",
    ")"
   ]
  },
  {
   "cell_type": "code",
   "execution_count": 61,
   "metadata": {},
   "outputs": [
    {
     "data": {
      "image/png": "[encoded data removed]",
      "text/plain": [
       "<Figure size 1800x1200 with 20 Axes>"
      ]
     },
     "metadata": {},
     "output_type": "display_data"
    }
   ],
   "source": [
    "(\n",
    "    data\n",
    "    .select_dtypes(include=['number'])\n",
    "    .hist(figsize=(18, 12))\n",
    ");"
   ]
  },
  {
   "cell_type": "markdown",
   "metadata": {},
   "source": [
    "#### serviceCharge"
   ]
  },
  {
   "cell_type": "code",
   "execution_count": 62,
   "metadata": {},
   "outputs": [
    {
     "data": {
      "text/plain": [
       "<Axes: >"
      ]
     },
     "execution_count": 62,
     "metadata": {},
     "output_type": "execute_result"
    },
    {
     "data": {
      "image/png": "[encoded data removed]",
      "text/plain": [
       "<Figure size 640x480 with 1 Axes>"
      ]
     },
     "metadata": {},
     "output_type": "display_data"
    }
   ],
   "source": [
    "(\n",
    "    data\n",
    "    .serviceCharge\n",
    "    .hist(bins =50)\n",
    ")"
   ]
  },
  {
   "cell_type": "code",
   "execution_count": 63,
   "metadata": {},
   "outputs": [
    {
     "name": "stderr",
     "output_type": "stream",
     "text": [
      "/var/folders/yj/2fr85zvn2sbbpv3jsq4y3kwh0000gn/T/ipykernel_3587/3317035676.py:2: FutureWarning: A value is trying to be set on a copy of a DataFrame or Series through chained assignment using an inplace method.\n",
      "The behavior will change in pandas 3.0. This inplace method will never work because the intermediate object on which we are setting values always behaves as a copy.\n",
      "\n",
      "For example, when doing 'df[col].method(value, inplace=True)', try using 'df.method({col: value}, inplace=True)' or df[col] = df[col].method(value) instead, to perform the operation inplace on the original object.\n",
      "\n",
      "\n",
      "  data['serviceCharge'].fillna(data['serviceCharge'].median(), inplace=True);\n"
     ]
    },
    {
     "data": {
      "text/plain": [
       "np.int64(0)"
      ]
     },
     "execution_count": 63,
     "metadata": {},
     "output_type": "execute_result"
    }
   ],
   "source": [
    "# Fill NA values with mean values\n",
    "data['serviceCharge'].fillna(data['serviceCharge'].median(), inplace=True);\n",
    "(\n",
    "    data\n",
    "    .serviceCharge\n",
    "    .isna()\n",
    "    .sum()\n",
    ")"
   ]
  },
  {
   "cell_type": "markdown",
   "metadata": {},
   "source": [
    "#### yearConstructed"
   ]
  },
  {
   "cell_type": "code",
   "execution_count": 64,
   "metadata": {},
   "outputs": [
    {
     "data": {
      "text/plain": [
       "173"
      ]
     },
     "execution_count": 64,
     "metadata": {},
     "output_type": "execute_result"
    }
   ],
   "source": [
    "(\n",
    "    data\n",
    "    .yearConstructed\n",
    "    .value_counts()\n",
    "    .nunique()\n",
    ")"
   ]
  },
  {
   "cell_type": "code",
   "execution_count": 65,
   "metadata": {},
   "outputs": [
    {
     "data": {
      "text/plain": [
       "np.float64(20.697)"
      ]
     },
     "execution_count": 65,
     "metadata": {},
     "output_type": "execute_result"
    }
   ],
   "source": [
    "# percentage of null values\n",
    "(\n",
    "    data\n",
    "    .yearConstructed\n",
    "    .isna()\n",
    "    .sum()/len(data)*100\n",
    ").round(3)"
   ]
  },
  {
   "cell_type": "code",
   "execution_count": 66,
   "metadata": {},
   "outputs": [
    {
     "data": {
      "text/plain": [
       "count    202827.000000\n",
       "mean       1966.418100\n",
       "std          47.099747\n",
       "min        1000.000000\n",
       "25%        1950.000000\n",
       "50%        1973.000000\n",
       "75%        1996.000000\n",
       "max        2090.000000\n",
       "Name: yearConstructed, dtype: float64"
      ]
     },
     "execution_count": 66,
     "metadata": {},
     "output_type": "execute_result"
    }
   ],
   "source": [
    "(\n",
    "    data\n",
    "    .yearConstructed\n",
    "    .describe()\n",
    ")"
   ]
  },
  {
   "cell_type": "code",
   "execution_count": 67,
   "metadata": {},
   "outputs": [
    {
     "data": {
      "image/png": "[encoded data removed]",
      "text/plain": [
       "<Figure size 640x480 with 1 Axes>"
      ]
     },
     "metadata": {},
     "output_type": "display_data"
    }
   ],
   "source": [
    "sns.boxplot(data['yearConstructed']);"
   ]
  },
  {
   "cell_type": "code",
   "execution_count": 68,
   "metadata": {},
   "outputs": [],
   "source": [
    "def percent_of_outliers(data, column):\n",
    "    # Calculate Q1 and Q3\n",
    "    Q1 = data[column].quantile(0.25)\n",
    "    Q3 = data[column].quantile(0.75)\n",
    "    \n",
    "    # Calculate the IQR \n",
    "    IQR = Q3 - Q1\n",
    "    \n",
    "    # Define the bounds for outliers\n",
    "    lower_bound = Q1 - 1.5 * IQR\n",
    "    upper_bound = Q3 + 1.5 * IQR\n",
    "    \n",
    "    # Identify the outliers\n",
    "    outliers = data[(data[column] < lower_bound) | (data[column] > upper_bound)]\n",
    "    \n",
    "    # Calculate the percentage of outliers\n",
    "    outlier_percentage = (len(outliers) / len(data)) * 100\n",
    "    \n",
    "    return outlier_percentage\n",
    "\n",
    "\n",
    "def remove_outliers(data, column):\n",
    "    # Calculate Q1 and Q3 \n",
    "    Q1 = data[column].quantile(0.25)\n",
    "    Q3 = data[column].quantile(0.75)\n",
    "    \n",
    "    # Calculate the IQR \n",
    "    IQR = Q3 - Q1\n",
    "    \n",
    "    # Define the bounds for outliers\n",
    "    lower_bound = Q1 - 1.5 * IQR\n",
    "    upper_bound = Q3 + 1.5 * IQR\n",
    "    \n",
    "    # remove outliers \n",
    "    filtered_data = data[(data[column] >= lower_bound) & (data[column] <= upper_bound)]\n",
    "    \n",
    "    return filtered_data"
   ]
  },
  {
   "cell_type": "code",
   "execution_count": 69,
   "metadata": {},
   "outputs": [
    {
     "name": "stdout",
     "output_type": "stream",
     "text": [
      "Percentage of outliers: 1.19%\n"
     ]
    },
    {
     "data": {
      "text/plain": [
       "count    199781.000000\n",
       "mean       1969.102888\n",
       "std          37.172525\n",
       "min        1881.000000\n",
       "25%        1952.000000\n",
       "50%        1973.000000\n",
       "75%        1997.000000\n",
       "max        2029.000000\n",
       "Name: yearConstructed, dtype: float64"
      ]
     },
     "execution_count": 69,
     "metadata": {},
     "output_type": "execute_result"
    }
   ],
   "source": [
    "outlier_percentage = percent_of_outliers(data, 'yearConstructed')\n",
    "print(f\"Percentage of outliers: {outlier_percentage:.2f}%\")\n",
    "\n",
    "data = remove_outliers(data, 'yearConstructed')\n",
    "\n",
    "(\n",
    "    data\n",
    "    .yearConstructed\n",
    "    .describe()\n",
    ")"
   ]
  },
  {
   "cell_type": "code",
   "execution_count": 70,
   "metadata": {},
   "outputs": [
    {
     "data": {
      "image/png": "[encoded data removed]",
      "text/plain": [
       "<Figure size 640x480 with 1 Axes>"
      ]
     },
     "metadata": {},
     "output_type": "display_data"
    }
   ],
   "source": [
    "sns.boxplot(data['yearConstructed']);"
   ]
  },
  {
   "cell_type": "code",
   "execution_count": 71,
   "metadata": {},
   "outputs": [
    {
     "name": "stdout",
     "output_type": "stream",
     "text": [
      "median yearConstructed: 1973.0\n"
     ]
    },
    {
     "data": {
      "text/plain": [
       "np.int64(0)"
      ]
     },
     "execution_count": 71,
     "metadata": {},
     "output_type": "execute_result"
    }
   ],
   "source": [
    "print(f\"median yearConstructed: {np.median(data['yearConstructed'])}\")\n",
    "\n",
    "(\n",
    "    data\n",
    "    .yearConstructed\n",
    "    .isna()\n",
    "    .sum()\n",
    ")"
   ]
  },
  {
   "cell_type": "code",
   "execution_count": 72,
   "metadata": {},
   "outputs": [
    {
     "data": {
      "text/plain": [
       "yearConstructed_category\n",
       "1973-1997    25.708150\n",
       "1997-2030    25.093978\n",
       "1881-1952    24.929798\n",
       "1952-1973    24.268074\n",
       "Name: proportion, dtype: float64"
      ]
     },
     "execution_count": 72,
     "metadata": {},
     "output_type": "execute_result"
    }
   ],
   "source": [
    "# categoriging the years\n",
    "bin_edges = [1881, 1952, 1973, 1997, 2030]\n",
    "\n",
    "# defining the categories names\n",
    "category_names = ['1881-1952', '1952-1973', '1973-1997', '1997-2030']\n",
    "\n",
    "# categorize years constructed\n",
    "\n",
    "data['yearConstructed_category'] = pd.cut(data['yearConstructed'], \n",
    "                               bins=bin_edges, \n",
    "                               labels=category_names, \n",
    "                               right=False) \n",
    "# change column type into string\n",
    "data['yearConstructed_category'] = data['yearConstructed_category'].astype(object)\n",
    "\n",
    "# droping the old column\n",
    "data =  data.drop(columns='yearConstructed', axis=1)\n",
    "\n",
    "# checking the new column\n",
    "(\n",
    "    data\n",
    "    .yearConstructed_category\n",
    "    .value_counts(normalize=True) * 100\n",
    ")\n",
    "\n"
   ]
  },
  {
   "cell_type": "code",
   "execution_count": 73,
   "metadata": {},
   "outputs": [
    {
     "data": {
      "text/plain": [
       "np.int64(0)"
      ]
     },
     "execution_count": 73,
     "metadata": {},
     "output_type": "execute_result"
    }
   ],
   "source": [
    "(\n",
    "    data\n",
    "    .yearConstructed_category\n",
    "    .isna()\n",
    "    .sum()\n",
    ")"
   ]
  },
  {
   "cell_type": "markdown",
   "metadata": {},
   "source": [
    "#### yearConstructedRange"
   ]
  },
  {
   "cell_type": "code",
   "execution_count": 74,
   "metadata": {},
   "outputs": [
    {
     "data": {
      "text/plain": [
       "9"
      ]
     },
     "execution_count": 74,
     "metadata": {},
     "output_type": "execute_result"
    }
   ],
   "source": [
    "(\n",
    "    data\n",
    "    .yearConstructedRange\n",
    "    .nunique()\n",
    ")"
   ]
  },
  {
   "cell_type": "code",
   "execution_count": 75,
   "metadata": {},
   "outputs": [
    {
     "data": {
      "text/plain": [
       "count    199781.000000\n",
       "mean          3.759652\n",
       "std           2.739912\n",
       "min           1.000000\n",
       "25%           2.000000\n",
       "50%           3.000000\n",
       "75%           5.000000\n",
       "max           9.000000\n",
       "Name: yearConstructedRange, dtype: float64"
      ]
     },
     "execution_count": 75,
     "metadata": {},
     "output_type": "execute_result"
    }
   ],
   "source": [
    "(\n",
    "    data\n",
    "    .yearConstructedRange\n",
    "    .describe()\n",
    ")"
   ]
  },
  {
   "cell_type": "code",
   "execution_count": 76,
   "metadata": {},
   "outputs": [
    {
     "data": {
      "image/png": "[encoded data removed]",
      "text/plain": [
       "<Figure size 640x480 with 1 Axes>"
      ]
     },
     "metadata": {},
     "output_type": "display_data"
    }
   ],
   "source": [
    "(\n",
    "    data\n",
    "    .yearConstructedRange\n",
    "    .hist()\n",
    ");"
   ]
  },
  {
   "cell_type": "code",
   "execution_count": 77,
   "metadata": {},
   "outputs": [],
   "source": [
    "# fillna with median values\n",
    "data.yearConstructedRange = data.yearConstructedRange.fillna(np.median(data.yearConstructedRange))\n",
    "\n",
    "# changing data type \n",
    "data.yearConstructedRange = data.yearConstructedRange.astype(object)\n"
   ]
  },
  {
   "cell_type": "markdown",
   "metadata": {},
   "source": [
    "#### floor "
   ]
  },
  {
   "cell_type": "code",
   "execution_count": 78,
   "metadata": {},
   "outputs": [
    {
     "data": {
      "text/plain": [
       "np.float64(16.92253017053674)"
      ]
     },
     "execution_count": 78,
     "metadata": {},
     "output_type": "execute_result"
    }
   ],
   "source": [
    "(\n",
    "    data\n",
    "    .floor\n",
    "    .isna()\n",
    "    .sum()/ len(data) * 100\n",
    ")"
   ]
  },
  {
   "cell_type": "code",
   "execution_count": 79,
   "metadata": {},
   "outputs": [
    {
     "data": {
      "text/plain": [
       "count    165973.000000\n",
       "mean          2.146614\n",
       "std           2.639758\n",
       "min          -1.000000\n",
       "25%           1.000000\n",
       "50%           2.000000\n",
       "75%           3.000000\n",
       "max         650.000000\n",
       "Name: floor, dtype: float64"
      ]
     },
     "execution_count": 79,
     "metadata": {},
     "output_type": "execute_result"
    }
   ],
   "source": [
    "(\n",
    "    data\n",
    "    .floor\n",
    "    .describe()\n",
    ")"
   ]
  },
  {
   "cell_type": "code",
   "execution_count": 80,
   "metadata": {},
   "outputs": [
    {
     "data": {
      "text/plain": [
       "<Axes: ylabel='floor'>"
      ]
     },
     "execution_count": 80,
     "metadata": {},
     "output_type": "execute_result"
    },
    {
     "data": {
      "image/png": "[encoded data removed]",
      "text/plain": [
       "<Figure size 640x480 with 1 Axes>"
      ]
     },
     "metadata": {},
     "output_type": "display_data"
    }
   ],
   "source": [
    "sns.boxplot(data.floor)"
   ]
  },
  {
   "cell_type": "code",
   "execution_count": 81,
   "metadata": {},
   "outputs": [
    {
     "name": "stdout",
     "output_type": "stream",
     "text": [
      "Percentage of outliers: 1.39%\n"
     ]
    }
   ],
   "source": [
    "# percent of outiers \n",
    "outlier_percentage = percent_of_outliers(data, 'floor')\n",
    "print(f\"Percentage of outliers: {outlier_percentage:.2f}%\")"
   ]
  },
  {
   "cell_type": "code",
   "execution_count": 82,
   "metadata": {},
   "outputs": [],
   "source": [
    "# fillna values with median values\n",
    "data['floor'] = data['floor'].fillna(data['floor'].median())"
   ]
  },
  {
   "cell_type": "code",
   "execution_count": 83,
   "metadata": {},
   "outputs": [
    {
     "name": "stdout",
     "output_type": "stream",
     "text": [
      "floor_category\n",
      "floor_0_3                 153280\n",
      "floor_4_5                  22058\n",
      "ground_floor_and_below     19526\n",
      "floor_6_45                  4897\n",
      "floor_above_45                20\n",
      "Name: count, dtype: int64\n"
     ]
    }
   ],
   "source": [
    "# Define floor thresholds and category labels\n",
    "floor_thresholds = [-float('inf'), 0, 3.0, 5.0, 45.0, float('inf')]\n",
    "floor_labels = ['ground_floor_and_below', 'floor_0_3', 'floor_4_5', 'floor_6_45', 'floor_above_45']\n",
    "\n",
    "# Categorize the 'floor' column using defined bins and labels\n",
    "data['floor_category'] = pd.cut(\n",
    "    data['floor'], \n",
    "    bins=floor_thresholds, \n",
    "    labels=floor_labels\n",
    ")\n",
    "\n",
    "# Display category counts\n",
    "category_counts = data['floor_category'].value_counts()\n",
    "print(category_counts)\n"
   ]
  },
  {
   "cell_type": "code",
   "execution_count": 84,
   "metadata": {},
   "outputs": [],
   "source": [
    "#change datatype \n",
    "data['floor_category'] = data['floor_category'].astype(object)\n",
    "\n",
    "# drop old column\n",
    "data =  data.drop(columns='floor', axis=1)"
   ]
  },
  {
   "cell_type": "markdown",
   "metadata": {},
   "source": [
    "#### totalRent"
   ]
  },
  {
   "cell_type": "code",
   "execution_count": 85,
   "metadata": {},
   "outputs": [
    {
     "data": {
      "text/plain": [
       "np.float64(15.42188696622802)"
      ]
     },
     "execution_count": 85,
     "metadata": {},
     "output_type": "execute_result"
    }
   ],
   "source": [
    "(\n",
    "    data\n",
    "    .totalRent\n",
    "    .isna()\n",
    "    .sum()/ len(data) * 100\n",
    ")"
   ]
  },
  {
   "cell_type": "code",
   "execution_count": 86,
   "metadata": {},
   "outputs": [
    {
     "data": {
      "text/plain": [
       "count    1.689710e+05\n",
       "mean     9.256783e+02\n",
       "std      3.834133e+04\n",
       "min      0.000000e+00\n",
       "25%      4.702300e+02\n",
       "50%      6.550000e+02\n",
       "75%      1.000000e+03\n",
       "max      1.575154e+07\n",
       "Name: totalRent, dtype: float64"
      ]
     },
     "execution_count": 86,
     "metadata": {},
     "output_type": "execute_result"
    }
   ],
   "source": [
    "(\n",
    "    data\n",
    "    .totalRent\n",
    "    .describe()\n",
    ")"
   ]
  },
  {
   "cell_type": "code",
   "execution_count": 87,
   "metadata": {},
   "outputs": [
    {
     "data": {
      "text/plain": [
       "<Axes: ylabel='totalRent'>"
      ]
     },
     "execution_count": 87,
     "metadata": {},
     "output_type": "execute_result"
    },
    {
     "data": {
      "image/png": "[encoded data removed]",
      "text/plain": [
       "<Figure size 640x480 with 1 Axes>"
      ]
     },
     "metadata": {},
     "output_type": "display_data"
    }
   ],
   "source": [
    "sns.boxplot(data.totalRent)"
   ]
  },
  {
   "cell_type": "code",
   "execution_count": 88,
   "metadata": {},
   "outputs": [
    {
     "name": "stdout",
     "output_type": "stream",
     "text": [
      "Percentage of outliers: 4.57%\n"
     ]
    }
   ],
   "source": [
    "# Percentage of outliers\n",
    "outlier_percentage = percent_of_outliers(data, 'totalRent')\n",
    "print(f\"Percentage of outliers: {outlier_percentage:.2f}%\")"
   ]
  },
  {
   "cell_type": "code",
   "execution_count": 89,
   "metadata": {},
   "outputs": [
    {
     "data": {
      "text/plain": [
       "<Axes: ylabel='totalRent'>"
      ]
     },
     "execution_count": 89,
     "metadata": {},
     "output_type": "execute_result"
    },
    {
     "data": {
      "image/png": "[encoded data removed]",
      "text/plain": [
       "<Figure size 640x480 with 1 Axes>"
      ]
     },
     "metadata": {},
     "output_type": "display_data"
    }
   ],
   "source": [
    "# Remove the top 10 maximum values from 'totalRent' column\n",
    "top_10_max_values = data['totalRent'].nlargest(10)\n",
    "data = data[~data['totalRent'].isin(top_10_max_values)]\n",
    "\n",
    "# fillna values with median values\n",
    "data['totalRent'] = data['totalRent'].fillna(data['totalRent'].median())\n",
    "\n",
    "# Create the boxplot for the cleaned data\n",
    "sns.boxplot(data['totalRent'])\n",
    "\n"
   ]
  },
  {
   "cell_type": "markdown",
   "metadata": {},
   "source": [
    "#### pricetrend"
   ]
  },
  {
   "cell_type": "code",
   "execution_count": 90,
   "metadata": {},
   "outputs": [
    {
     "data": {
      "text/plain": [
       "np.float64(0.72433298293037)"
      ]
     },
     "execution_count": 90,
     "metadata": {},
     "output_type": "execute_result"
    }
   ],
   "source": [
    "(\n",
    "    data\n",
    "    .pricetrend\n",
    "    .isna()\n",
    "    .sum()/len(data)*100\n",
    ")"
   ]
  },
  {
   "cell_type": "code",
   "execution_count": 91,
   "metadata": {},
   "outputs": [
    {
     "data": {
      "text/plain": [
       "<Axes: xlabel='pricetrend'>"
      ]
     },
     "execution_count": 91,
     "metadata": {},
     "output_type": "execute_result"
    },
    {
     "data": {
      "image/png": "[encoded data removed]",
      "text/plain": [
       "<Figure size 640x480 with 1 Axes>"
      ]
     },
     "metadata": {},
     "output_type": "display_data"
    }
   ],
   "source": [
    "sns.boxenplot(x = data['pricetrend'])"
   ]
  },
  {
   "cell_type": "code",
   "execution_count": 92,
   "metadata": {},
   "outputs": [
    {
     "name": "stdout",
     "output_type": "stream",
     "text": [
      "Percentage of outliers: 2.01%\n"
     ]
    }
   ],
   "source": [
    "# perecent of outliers\n",
    "outlier_percentage = percent_of_outliers(data, 'pricetrend')\n",
    "print(f\"Percentage of outliers: {outlier_percentage:.2f}%\")"
   ]
  },
  {
   "cell_type": "code",
   "execution_count": 93,
   "metadata": {},
   "outputs": [
    {
     "name": "stdout",
     "output_type": "stream",
     "text": [
      "median_price_trend = 3.39\n",
      "mean_price_trend = 3.4192139590466053\n"
     ]
    }
   ],
   "source": [
    "# mean and median values\n",
    "mean_price_trend = data['pricetrend'].mean()\n",
    "median_price_trend = data['pricetrend'].median()\n",
    "\n",
    "print(f\"median_price_trend = {median_price_trend}\")\n",
    "print(f\"mean_price_trend = {mean_price_trend}\")"
   ]
  },
  {
   "cell_type": "code",
   "execution_count": 94,
   "metadata": {},
   "outputs": [],
   "source": [
    "# fillna values with median values\n",
    "data['pricetrend'] = data['pricetrend'].fillna(median_price_trend)"
   ]
  },
  {
   "cell_type": "markdown",
   "metadata": {},
   "source": [
    "#### pictureCount"
   ]
  },
  {
   "cell_type": "code",
   "execution_count": 95,
   "metadata": {},
   "outputs": [
    {
     "data": {
      "text/plain": [
       "np.float64(0.0)"
      ]
     },
     "execution_count": 95,
     "metadata": {},
     "output_type": "execute_result"
    }
   ],
   "source": [
    "(\n",
    "    data\n",
    "    .picturecount\n",
    "    .isna()\n",
    "    .sum()/len(data) * 100\n",
    ")"
   ]
  },
  {
   "cell_type": "code",
   "execution_count": 96,
   "metadata": {},
   "outputs": [
    {
     "data": {
      "image/png": "[encoded data removed]",
      "text/plain": [
       "<Figure size 640x480 with 1 Axes>"
      ]
     },
     "metadata": {},
     "output_type": "display_data"
    }
   ],
   "source": [
    "sns.boxplot(data['picturecount']);"
   ]
  },
  {
   "cell_type": "markdown",
   "metadata": {},
   "source": [
    "#### baseRent"
   ]
  },
  {
   "cell_type": "code",
   "execution_count": 97,
   "metadata": {},
   "outputs": [
    {
     "data": {
      "image/png": "[encoded data removed]",
      "text/plain": [
       "<Figure size 640x480 with 1 Axes>"
      ]
     },
     "metadata": {},
     "output_type": "display_data"
    }
   ],
   "source": [
    "sns.boxplot(data['baseRent']);"
   ]
  },
  {
   "cell_type": "code",
   "execution_count": 98,
   "metadata": {},
   "outputs": [
    {
     "name": "stdout",
     "output_type": "stream",
     "text": [
      "Percentage of outliers: 5.29%\n"
     ]
    }
   ],
   "source": [
    "# percent of outliers\n",
    "outlier_percentage = percent_of_outliers(data, 'baseRent')\n",
    "print(f\"Percentage of outliers: {outlier_percentage:.2f}%\")"
   ]
  },
  {
   "cell_type": "code",
   "execution_count": 99,
   "metadata": {},
   "outputs": [
    {
     "data": {
      "text/plain": [
       "<Axes: ylabel='baseRent'>"
      ]
     },
     "execution_count": 99,
     "metadata": {},
     "output_type": "execute_result"
    },
    {
     "data": {
      "image/png": "[encoded data removed]",
      "text/plain": [
       "<Figure size 640x480 with 1 Axes>"
      ]
     },
     "metadata": {},
     "output_type": "display_data"
    }
   ],
   "source": [
    "# fillna values with median values\n",
    "data['baseRent'] = data['baseRent'].fillna(np.median(data['totalRent']))\n",
    "\n",
    "# Remove the top 10 maximum values from 'baseRent' column\n",
    "top_10_max_values = data['baseRent'].nlargest(10)\n",
    "data = data[~data['baseRent'].isin(top_10_max_values)]\n",
    "\n",
    "# Create the boxplot for the cleaned data\n",
    "sns.boxplot(data['baseRent'])"
   ]
  },
  {
   "cell_type": "markdown",
   "metadata": {},
   "source": [
    "#### livingSpace"
   ]
  },
  {
   "cell_type": "code",
   "execution_count": 100,
   "metadata": {},
   "outputs": [
    {
     "data": {
      "image/png": "[encoded data removed]",
      "text/plain": [
       "<Figure size 640x480 with 1 Axes>"
      ]
     },
     "metadata": {},
     "output_type": "display_data"
    }
   ],
   "source": [
    "sns.boxplot(data['livingSpace']);"
   ]
  },
  {
   "cell_type": "code",
   "execution_count": 101,
   "metadata": {},
   "outputs": [
    {
     "data": {
      "text/plain": [
       "<Axes: ylabel='livingSpace'>"
      ]
     },
     "execution_count": 101,
     "metadata": {},
     "output_type": "execute_result"
    },
    {
     "data": {
      "image/png": "[encoded data removed]",
      "text/plain": [
       "<Figure size 640x480 with 1 Axes>"
      ]
     },
     "metadata": {},
     "output_type": "display_data"
    }
   ],
   "source": [
    "# fillna values with median values\n",
    "data['livingSpace'] = data['livingSpace'].fillna(np.median(data['livingSpace']))\n",
    "\n",
    "# Remove the top 10 maximum values from 'baseRent' column\n",
    "top_10_max_values = data['livingSpace'].nlargest(10)\n",
    "data = data[~data['livingSpace'].isin(top_10_max_values)]\n",
    "\n",
    "# Create the boxplot for the cleaned data\n",
    "sns.boxplot(data['livingSpace'])"
   ]
  },
  {
   "cell_type": "markdown",
   "metadata": {},
   "source": [
    "#### baseRentRange"
   ]
  },
  {
   "cell_type": "code",
   "execution_count": 102,
   "metadata": {},
   "outputs": [
    {
     "data": {
      "image/png": "[encoded data removed]",
      "text/plain": [
       "<Figure size 640x480 with 1 Axes>"
      ]
     },
     "metadata": {},
     "output_type": "display_data"
    }
   ],
   "source": [
    "sns.boxplot(data['baseRentRange']);"
   ]
  },
  {
   "cell_type": "markdown",
   "metadata": {},
   "source": [
    "#### telekomUploadSpeed"
   ]
  },
  {
   "cell_type": "code",
   "execution_count": 103,
   "metadata": {},
   "outputs": [
    {
     "data": {
      "text/plain": [
       "np.float64(12.536670838548186)"
      ]
     },
     "execution_count": 103,
     "metadata": {},
     "output_type": "execute_result"
    }
   ],
   "source": [
    "(\n",
    "    data\n",
    "    .telekomUploadSpeed\n",
    "    .isna()\n",
    "    .sum()/len(data) * 100\n",
    ")"
   ]
  },
  {
   "cell_type": "code",
   "execution_count": 104,
   "metadata": {},
   "outputs": [
    {
     "data": {
      "image/png": "[encoded data removed]",
      "text/plain": [
       "<Figure size 640x480 with 1 Axes>"
      ]
     },
     "metadata": {},
     "output_type": "display_data"
    }
   ],
   "source": [
    "sns.boxplot(data['telekomUploadSpeed']);"
   ]
  },
  {
   "cell_type": "code",
   "execution_count": 105,
   "metadata": {},
   "outputs": [
    {
     "data": {
      "text/plain": [
       "<Axes: ylabel='telekomUploadSpeed'>"
      ]
     },
     "execution_count": 105,
     "metadata": {},
     "output_type": "execute_result"
    },
    {
     "data": {
      "image/png": "[encoded data removed]",
      "text/plain": [
       "<Figure size 640x480 with 1 Axes>"
      ]
     },
     "metadata": {},
     "output_type": "display_data"
    }
   ],
   "source": [
    "# Remove the top 10 maximum values from 'baseRent' column\n",
    "top_10_max_values = data['telekomUploadSpeed'].nlargest(1)\n",
    "data = data[~data['telekomUploadSpeed'].isin(top_10_max_values)]\n",
    "\n",
    "\n",
    "# fillna values with median values\n",
    "data['telekomUploadSpeed'] = data['telekomUploadSpeed'].fillna(data['telekomUploadSpeed'].median())\n",
    "\n",
    "# Create the boxplot for the cleaned data\n",
    "sns.boxplot(data['telekomUploadSpeed'])"
   ]
  },
  {
   "cell_type": "markdown",
   "metadata": {},
   "source": [
    "#### geo_plz"
   ]
  },
  {
   "cell_type": "code",
   "execution_count": 106,
   "metadata": {},
   "outputs": [
    {
     "data": {
      "text/plain": [
       "0     44269\n",
       "2     01097\n",
       "3     09599\n",
       "4     28213\n",
       "5     24891\n",
       "7     28717\n",
       "8     79211\n",
       "9     45888\n",
       "10    09130\n",
       "11    09669\n",
       "Name: geo_plz, dtype: object"
      ]
     },
     "execution_count": 106,
     "metadata": {},
     "output_type": "execute_result"
    }
   ],
   "source": [
    "(\n",
    "    data\n",
    "    .geo_plz\n",
    "    .head(10)\n",
    ")"
   ]
  },
  {
   "cell_type": "code",
   "execution_count": 107,
   "metadata": {},
   "outputs": [
    {
     "name": "stdout",
     "output_type": "stream",
     "text": [
      "0.0\n"
     ]
    }
   ],
   "source": [
    "four_digit_values = data[data['geo_plz'].astype(str).str.len() == 4]\n",
    "print(len(four_digit_values)/len(data))"
   ]
  },
  {
   "cell_type": "code",
   "execution_count": 108,
   "metadata": {},
   "outputs": [
    {
     "name": "stdout",
     "output_type": "stream",
     "text": [
      "0    44269\n",
      "2    01097\n",
      "3    09599\n",
      "4    28213\n",
      "5    24891\n",
      "Name: geo_plz, dtype: object\n"
     ]
    }
   ],
   "source": [
    "# Adding a leading zero\n",
    "data['geo_plz'] = data['geo_plz'].astype(str).str.zfill(5)\n",
    "\n",
    "# Verify transformation\n",
    "print(data['geo_plz'].head())"
   ]
  },
  {
   "cell_type": "code",
   "execution_count": 109,
   "metadata": {},
   "outputs": [],
   "source": [
    "# changing the datatype\n",
    "data['geo_plz'] = data['geo_plz'].astype('object')"
   ]
  },
  {
   "cell_type": "markdown",
   "metadata": {},
   "source": [
    "#### noRooms"
   ]
  },
  {
   "cell_type": "code",
   "execution_count": 110,
   "metadata": {},
   "outputs": [
    {
     "data": {
      "text/plain": [
       "<Axes: ylabel='noRooms'>"
      ]
     },
     "execution_count": 110,
     "metadata": {},
     "output_type": "execute_result"
    },
    {
     "data": {
      "image/png": "[encoded data removed]",
      "text/plain": [
       "<Figure size 640x480 with 1 Axes>"
      ]
     },
     "metadata": {},
     "output_type": "display_data"
    }
   ],
   "source": [
    "sns.boxplot(data['noRooms'])"
   ]
  },
  {
   "cell_type": "code",
   "execution_count": 111,
   "metadata": {},
   "outputs": [
    {
     "data": {
      "text/plain": [
       "<Axes: ylabel='noRooms'>"
      ]
     },
     "execution_count": 111,
     "metadata": {},
     "output_type": "execute_result"
    },
    {
     "data": {
      "image/png": "[encoded data removed]",
      "text/plain": [
       "<Figure size 640x480 with 1 Axes>"
      ]
     },
     "metadata": {},
     "output_type": "display_data"
    }
   ],
   "source": [
    "# Remove the top 10 maximum values from 'baseRent' column\n",
    "top_10_max_values = data['noRooms'].nlargest(10)\n",
    "data = data[~data['noRooms'].isin(top_10_max_values)]\n",
    "\n",
    "\n",
    "# fillna values with median values\n",
    "data['noRooms'] = data['noRooms'].fillna(data['noRooms'].median())\n",
    "\n",
    "# Create the boxplot for the cleaned data\n",
    "sns.boxplot(data['noRooms'])"
   ]
  },
  {
   "cell_type": "code",
   "execution_count": 112,
   "metadata": {},
   "outputs": [],
   "source": [
    "# changing datatype\n",
    "data['noRooms'] = data['noRooms'].astype('int').astype('object')"
   ]
  },
  {
   "cell_type": "markdown",
   "metadata": {},
   "source": [
    "#### livingSpaceRange"
   ]
  },
  {
   "cell_type": "code",
   "execution_count": 113,
   "metadata": {},
   "outputs": [
    {
     "data": {
      "text/plain": [
       "<Axes: ylabel='livingSpaceRange'>"
      ]
     },
     "execution_count": 113,
     "metadata": {},
     "output_type": "execute_result"
    },
    {
     "data": {
      "image/png": "[encoded data removed]",
      "text/plain": [
       "<Figure size 640x480 with 1 Axes>"
      ]
     },
     "metadata": {},
     "output_type": "display_data"
    }
   ],
   "source": [
    "sns.boxplot(data['livingSpaceRange'])"
   ]
  },
  {
   "cell_type": "code",
   "execution_count": 114,
   "metadata": {},
   "outputs": [],
   "source": [
    "data['livingSpaceRange'] = data['livingSpaceRange'].astype('int').astype('object')"
   ]
  },
  {
   "cell_type": "markdown",
   "metadata": {},
   "source": [
    "#### livingSpace"
   ]
  },
  {
   "cell_type": "code",
   "execution_count": 115,
   "metadata": {},
   "outputs": [
    {
     "data": {
      "text/plain": [
       "<Axes: ylabel='livingSpace'>"
      ]
     },
     "execution_count": 115,
     "metadata": {},
     "output_type": "execute_result"
    },
    {
     "data": {
      "image/png": "[encoded data removed]",
      "text/plain": [
       "<Figure size 640x480 with 1 Axes>"
      ]
     },
     "metadata": {},
     "output_type": "display_data"
    }
   ],
   "source": [
    "sns.boxplot(data['livingSpace'])"
   ]
  },
  {
   "cell_type": "code",
   "execution_count": 116,
   "metadata": {},
   "outputs": [
    {
     "name": "stdout",
     "output_type": "stream",
     "text": [
      "Percentage of outliers: 4.30%\n"
     ]
    }
   ],
   "source": [
    "# percentage of outliers\n",
    "outlier_percentage = percent_of_outliers(data, 'livingSpace')\n",
    "print(f\"Percentage of outliers: {outlier_percentage:.2f}%\")"
   ]
  },
  {
   "cell_type": "code",
   "execution_count": 117,
   "metadata": {},
   "outputs": [
    {
     "data": {
      "text/plain": [
       "count    199627.000000\n",
       "mean         73.732287\n",
       "std          31.397250\n",
       "min           0.000000\n",
       "25%          55.000000\n",
       "50%          67.700000\n",
       "75%          87.000000\n",
       "max         542.530000\n",
       "Name: livingSpace, dtype: float64"
      ]
     },
     "execution_count": 117,
     "metadata": {},
     "output_type": "execute_result"
    }
   ],
   "source": [
    "(\n",
    "    data\n",
    "    .livingSpace\n",
    "    .describe()\n",
    ")"
   ]
  },
  {
   "cell_type": "code",
   "execution_count": 118,
   "metadata": {},
   "outputs": [],
   "source": [
    "# living space can not be less than 1\n",
    "data = data[data['livingSpace'] >= 1]"
   ]
  },
  {
   "cell_type": "code",
   "execution_count": 119,
   "metadata": {},
   "outputs": [
    {
     "data": {
      "text/plain": [
       "<Axes: ylabel='livingSpace'>"
      ]
     },
     "execution_count": 119,
     "metadata": {},
     "output_type": "execute_result"
    },
    {
     "data": {
      "image/png": "[encoded data removed]",
      "text/plain": [
       "<Figure size 640x480 with 1 Axes>"
      ]
     },
     "metadata": {},
     "output_type": "display_data"
    }
   ],
   "source": [
    "# fillna values with median values\n",
    "data['livingSpace'] = data['livingSpace'].fillna(data['livingSpace'].median())\n",
    "\n",
    "# Create the boxplot for the cleaned data\n",
    "sns.boxplot(data['livingSpace'])"
   ]
  },
  {
   "cell_type": "code",
   "execution_count": 120,
   "metadata": {},
   "outputs": [
    {
     "data": {
      "text/plain": [
       "(199588, 37)"
      ]
     },
     "execution_count": 120,
     "metadata": {},
     "output_type": "execute_result"
    }
   ],
   "source": [
    "data.shape"
   ]
  },
  {
   "cell_type": "code",
   "execution_count": 1,
   "metadata": {},
   "outputs": [
    {
     "ename": "NameError",
     "evalue": "name 'data' is not defined",
     "output_type": "error",
     "traceback": [
      "\u001b[0;31m---------------------------------------------------------------------------\u001b[0m",
      "\u001b[0;31mNameError\u001b[0m                                 Traceback (most recent call last)",
      "\u001b[1;32m/Users/sudhirjoon/Library/Mobile Documents/com~apple~CloudDocs/Uni_Mannheim/Sem2/data_visualisation/Joon_project/Notebooks/Data_cleaning.ipynb Cell 174\u001b[0m line \u001b[0;36m2\n\u001b[1;32m      <a href='vscode-notebook-cell:/Users/sudhirjoon/Library/Mobile%20Documents/com~apple~CloudDocs/Uni_Mannheim/Sem2/data_visualisation/Joon_project/Notebooks/Data_cleaning.ipynb#Y335sZmlsZQ%3D%3D?line=0'>1</a>\u001b[0m \u001b[39m# checking NA values\u001b[39;00m\n\u001b[0;32m----> <a href='vscode-notebook-cell:/Users/sudhirjoon/Library/Mobile%20Documents/com~apple~CloudDocs/Uni_Mannheim/Sem2/data_visualisation/Joon_project/Notebooks/Data_cleaning.ipynb#Y335sZmlsZQ%3D%3D?line=1'>2</a>\u001b[0m data\u001b[39m.\u001b[39misna()\u001b[39m.\u001b[39msum()\u001b[39m.\u001b[39msort_values(ascending\u001b[39m=\u001b[39m\u001b[39mFalse\u001b[39;00m)\n",
      "\u001b[0;31mNameError\u001b[0m: name 'data' is not defined"
     ]
    }
   ],
   "source": [
    "# checking NA values\n",
    "data.isna().sum()"
   ]
  },
  {
   "cell_type": "code",
   "execution_count": 122,
   "metadata": {},
   "outputs": [
    {
     "data": {
      "text/html": [
       "<div>\n",
       "<style scoped>\n",
       "    .dataframe tbody tr th:only-of-type {\n",
       "        vertical-align: middle;\n",
       "    }\n",
       "\n",
       "    .dataframe tbody tr th {\n",
       "        vertical-align: top;\n",
       "    }\n",
       "\n",
       "    .dataframe thead th {\n",
       "        text-align: right;\n",
       "    }\n",
       "</style>\n",
       "<table border=\"1\" class=\"dataframe\">\n",
       "  <thead>\n",
       "    <tr style=\"text-align: right;\">\n",
       "      <th></th>\n",
       "      <th>serviceCharge</th>\n",
       "      <th>picturecount</th>\n",
       "      <th>pricetrend</th>\n",
       "      <th>telekomUploadSpeed</th>\n",
       "      <th>totalRent</th>\n",
       "      <th>yearConstructedRange</th>\n",
       "      <th>baseRent</th>\n",
       "      <th>livingSpace</th>\n",
       "      <th>baseRentRange</th>\n",
       "      <th>noRooms</th>\n",
       "      <th>livingSpaceRange</th>\n",
       "      <th>residents</th>\n",
       "      <th>zip_area_sq_km</th>\n",
       "      <th>lat</th>\n",
       "      <th>lon</th>\n",
       "      <th>stateName</th>\n",
       "      <th>heatingType</th>\n",
       "      <th>telekomTvOffer</th>\n",
       "      <th>newlyConst</th>\n",
       "      <th>balcony</th>\n",
       "      <th>firingTypes</th>\n",
       "      <th>hasKitchen</th>\n",
       "      <th>cellar</th>\n",
       "      <th>condition</th>\n",
       "      <th>interiorQual</th>\n",
       "      <th>petsAllowed</th>\n",
       "      <th>lift</th>\n",
       "      <th>typeOfFlat</th>\n",
       "      <th>geo_plz</th>\n",
       "      <th>garden</th>\n",
       "      <th>cityName</th>\n",
       "      <th>cityDistrict</th>\n",
       "      <th>date</th>\n",
       "      <th>geo_plz_2</th>\n",
       "      <th>cityName_mapped</th>\n",
       "      <th>yearConstructed_category</th>\n",
       "      <th>floor_category</th>\n",
       "    </tr>\n",
       "  </thead>\n",
       "  <tbody>\n",
       "    <tr>\n",
       "      <th>0</th>\n",
       "      <td>245.00</td>\n",
       "      <td>6</td>\n",
       "      <td>4.62</td>\n",
       "      <td>10.0</td>\n",
       "      <td>840.0</td>\n",
       "      <td>2.0</td>\n",
       "      <td>595.0</td>\n",
       "      <td>86.00</td>\n",
       "      <td>4</td>\n",
       "      <td>4</td>\n",
       "      <td>4</td>\n",
       "      <td>21539</td>\n",
       "      <td>7.401962</td>\n",
       "      <td>51.48921</td>\n",
       "      <td>7.53263</td>\n",
       "      <td>Nordrhein_Westfalen</td>\n",
       "      <td>central_heating</td>\n",
       "      <td>ONE_YEAR_FREE</td>\n",
       "      <td>False</td>\n",
       "      <td>False</td>\n",
       "      <td>oil</td>\n",
       "      <td>False</td>\n",
       "      <td>True</td>\n",
       "      <td>well_kept</td>\n",
       "      <td>normal</td>\n",
       "      <td>unknown</td>\n",
       "      <td>False</td>\n",
       "      <td>ground_floor</td>\n",
       "      <td>44269</td>\n",
       "      <td>True</td>\n",
       "      <td>Dortmund</td>\n",
       "      <td>Schüren</td>\n",
       "      <td>May19</td>\n",
       "      <td>44</td>\n",
       "      <td>Dortmund</td>\n",
       "      <td>1952-1973</td>\n",
       "      <td>floor_0_3</td>\n",
       "    </tr>\n",
       "    <tr>\n",
       "      <th>2</th>\n",
       "      <td>255.00</td>\n",
       "      <td>8</td>\n",
       "      <td>2.72</td>\n",
       "      <td>2.4</td>\n",
       "      <td>1300.0</td>\n",
       "      <td>9.0</td>\n",
       "      <td>965.0</td>\n",
       "      <td>83.80</td>\n",
       "      <td>6</td>\n",
       "      <td>3</td>\n",
       "      <td>4</td>\n",
       "      <td>14821</td>\n",
       "      <td>3.298022</td>\n",
       "      <td>51.06945</td>\n",
       "      <td>13.73781</td>\n",
       "      <td>Sachsen</td>\n",
       "      <td>floor_heating</td>\n",
       "      <td>ONE_YEAR_FREE</td>\n",
       "      <td>True</td>\n",
       "      <td>True</td>\n",
       "      <td>gas</td>\n",
       "      <td>False</td>\n",
       "      <td>True</td>\n",
       "      <td>first_time_use</td>\n",
       "      <td>sophisticated</td>\n",
       "      <td>unknown</td>\n",
       "      <td>True</td>\n",
       "      <td>apartment</td>\n",
       "      <td>01097</td>\n",
       "      <td>False</td>\n",
       "      <td>Dresden</td>\n",
       "      <td>Äußere_Neustadt_Antonstadt</td>\n",
       "      <td>Oct19</td>\n",
       "      <td>01</td>\n",
       "      <td>Dresden</td>\n",
       "      <td>1997-2030</td>\n",
       "      <td>floor_0_3</td>\n",
       "    </tr>\n",
       "    <tr>\n",
       "      <th>3</th>\n",
       "      <td>58.15</td>\n",
       "      <td>9</td>\n",
       "      <td>1.53</td>\n",
       "      <td>40.0</td>\n",
       "      <td>655.0</td>\n",
       "      <td>2.0</td>\n",
       "      <td>343.0</td>\n",
       "      <td>58.15</td>\n",
       "      <td>2</td>\n",
       "      <td>3</td>\n",
       "      <td>2</td>\n",
       "      <td>39861</td>\n",
       "      <td>48.291826</td>\n",
       "      <td>50.91720</td>\n",
       "      <td>13.33940</td>\n",
       "      <td>Sachsen</td>\n",
       "      <td>district_heating</td>\n",
       "      <td>ONE_YEAR_FREE</td>\n",
       "      <td>False</td>\n",
       "      <td>True</td>\n",
       "      <td>district_heating</td>\n",
       "      <td>False</td>\n",
       "      <td>False</td>\n",
       "      <td>unknown</td>\n",
       "      <td>unknown</td>\n",
       "      <td>unknown</td>\n",
       "      <td>False</td>\n",
       "      <td>other</td>\n",
       "      <td>09599</td>\n",
       "      <td>False</td>\n",
       "      <td>Mittelsachsen_Kreis</td>\n",
       "      <td>Freiberg</td>\n",
       "      <td>May19</td>\n",
       "      <td>09</td>\n",
       "      <td>Chemnitz</td>\n",
       "      <td>1952-1973</td>\n",
       "      <td>floor_0_3</td>\n",
       "    </tr>\n",
       "    <tr>\n",
       "      <th>4</th>\n",
       "      <td>138.00</td>\n",
       "      <td>19</td>\n",
       "      <td>2.46</td>\n",
       "      <td>40.0</td>\n",
       "      <td>903.0</td>\n",
       "      <td>1.0</td>\n",
       "      <td>765.0</td>\n",
       "      <td>84.97</td>\n",
       "      <td>5</td>\n",
       "      <td>3</td>\n",
       "      <td>4</td>\n",
       "      <td>12077</td>\n",
       "      <td>4.044656</td>\n",
       "      <td>53.09800</td>\n",
       "      <td>8.83931</td>\n",
       "      <td>Bremen</td>\n",
       "      <td>self_contained_central_heating</td>\n",
       "      <td>unknown</td>\n",
       "      <td>False</td>\n",
       "      <td>True</td>\n",
       "      <td>gas</td>\n",
       "      <td>False</td>\n",
       "      <td>False</td>\n",
       "      <td>refurbished</td>\n",
       "      <td>unknown</td>\n",
       "      <td>unknown</td>\n",
       "      <td>False</td>\n",
       "      <td>apartment</td>\n",
       "      <td>28213</td>\n",
       "      <td>False</td>\n",
       "      <td>Bremen</td>\n",
       "      <td>Neu_Schwachhausen</td>\n",
       "      <td>Feb20</td>\n",
       "      <td>28</td>\n",
       "      <td>Bremen</td>\n",
       "      <td>1881-1952</td>\n",
       "      <td>floor_0_3</td>\n",
       "    </tr>\n",
       "    <tr>\n",
       "      <th>5</th>\n",
       "      <td>142.00</td>\n",
       "      <td>5</td>\n",
       "      <td>4.48</td>\n",
       "      <td>2.4</td>\n",
       "      <td>655.0</td>\n",
       "      <td>5.0</td>\n",
       "      <td>315.2</td>\n",
       "      <td>53.43</td>\n",
       "      <td>2</td>\n",
       "      <td>2</td>\n",
       "      <td>2</td>\n",
       "      <td>1302</td>\n",
       "      <td>24.861634</td>\n",
       "      <td>54.63964</td>\n",
       "      <td>9.64105</td>\n",
       "      <td>Schleswig_Holstein</td>\n",
       "      <td>gas_heating</td>\n",
       "      <td>unknown</td>\n",
       "      <td>False</td>\n",
       "      <td>True</td>\n",
       "      <td>gas</td>\n",
       "      <td>True</td>\n",
       "      <td>False</td>\n",
       "      <td>well_kept</td>\n",
       "      <td>unknown</td>\n",
       "      <td>no</td>\n",
       "      <td>False</td>\n",
       "      <td>apartment</td>\n",
       "      <td>24891</td>\n",
       "      <td>False</td>\n",
       "      <td>Schleswig_Flensburg_Kreis</td>\n",
       "      <td>Struxdorf</td>\n",
       "      <td>Feb20</td>\n",
       "      <td>24</td>\n",
       "      <td>Kiel</td>\n",
       "      <td>1997-2030</td>\n",
       "      <td>floor_0_3</td>\n",
       "    </tr>\n",
       "  </tbody>\n",
       "</table>\n",
       "</div>"
      ],
      "text/plain": [
       "   serviceCharge  picturecount  pricetrend  telekomUploadSpeed  totalRent  \\\n",
       "0         245.00             6        4.62                10.0      840.0   \n",
       "2         255.00             8        2.72                 2.4     1300.0   \n",
       "3          58.15             9        1.53                40.0      655.0   \n",
       "4         138.00            19        2.46                40.0      903.0   \n",
       "5         142.00             5        4.48                 2.4      655.0   \n",
       "\n",
       "  yearConstructedRange  baseRent  livingSpace  baseRentRange noRooms  \\\n",
       "0                  2.0     595.0        86.00              4       4   \n",
       "2                  9.0     965.0        83.80              6       3   \n",
       "3                  2.0     343.0        58.15              2       3   \n",
       "4                  1.0     765.0        84.97              5       3   \n",
       "5                  5.0     315.2        53.43              2       2   \n",
       "\n",
       "  livingSpaceRange  residents  zip_area_sq_km       lat       lon  \\\n",
       "0                4      21539        7.401962  51.48921   7.53263   \n",
       "2                4      14821        3.298022  51.06945  13.73781   \n",
       "3                2      39861       48.291826  50.91720  13.33940   \n",
       "4                4      12077        4.044656  53.09800   8.83931   \n",
       "5                2       1302       24.861634  54.63964   9.64105   \n",
       "\n",
       "             stateName                     heatingType telekomTvOffer  \\\n",
       "0  Nordrhein_Westfalen                 central_heating  ONE_YEAR_FREE   \n",
       "2              Sachsen                   floor_heating  ONE_YEAR_FREE   \n",
       "3              Sachsen                district_heating  ONE_YEAR_FREE   \n",
       "4               Bremen  self_contained_central_heating        unknown   \n",
       "5   Schleswig_Holstein                     gas_heating        unknown   \n",
       "\n",
       "   newlyConst  balcony       firingTypes  hasKitchen  cellar       condition  \\\n",
       "0       False    False               oil       False    True       well_kept   \n",
       "2        True     True               gas       False    True  first_time_use   \n",
       "3       False     True  district_heating       False   False         unknown   \n",
       "4       False     True               gas       False   False     refurbished   \n",
       "5       False     True               gas        True   False       well_kept   \n",
       "\n",
       "    interiorQual petsAllowed   lift    typeOfFlat geo_plz  garden  \\\n",
       "0         normal     unknown  False  ground_floor   44269    True   \n",
       "2  sophisticated     unknown   True     apartment   01097   False   \n",
       "3        unknown     unknown  False         other   09599   False   \n",
       "4        unknown     unknown  False     apartment   28213   False   \n",
       "5        unknown          no  False     apartment   24891   False   \n",
       "\n",
       "                    cityName                cityDistrict   date geo_plz_2  \\\n",
       "0                   Dortmund                     Schüren  May19        44   \n",
       "2                    Dresden  Äußere_Neustadt_Antonstadt  Oct19        01   \n",
       "3        Mittelsachsen_Kreis                    Freiberg  May19        09   \n",
       "4                     Bremen           Neu_Schwachhausen  Feb20        28   \n",
       "5  Schleswig_Flensburg_Kreis                   Struxdorf  Feb20        24   \n",
       "\n",
       "  cityName_mapped yearConstructed_category floor_category  \n",
       "0        Dortmund                1952-1973      floor_0_3  \n",
       "2         Dresden                1997-2030      floor_0_3  \n",
       "3        Chemnitz                1952-1973      floor_0_3  \n",
       "4          Bremen                1881-1952      floor_0_3  \n",
       "5            Kiel                1997-2030      floor_0_3  "
      ]
     },
     "execution_count": 122,
     "metadata": {},
     "output_type": "execute_result"
    }
   ],
   "source": [
    "data.head()"
   ]
  },
  {
   "cell_type": "code",
   "execution_count": 123,
   "metadata": {},
   "outputs": [
    {
     "data": {
      "text/plain": [
       "Index(['serviceCharge', 'picturecount', 'pricetrend', 'telekomUploadSpeed',\n",
       "       'totalRent', 'baseRent', 'livingSpace', 'noRooms', 'residents',\n",
       "       'zip_area_sq_km', 'stateName', 'heatingType', 'telekomTvOffer',\n",
       "       'newlyConst', 'balcony', 'firingTypes', 'hasKitchen', 'cellar',\n",
       "       'condition', 'interiorQual', 'petsAllowed', 'lift', 'typeOfFlat',\n",
       "       'geo_plz', 'garden', 'date', 'cityCode', 'cityName',\n",
       "       'yearConstructed_category', 'floor_category'],\n",
       "      dtype='object')"
      ]
     },
     "execution_count": 123,
     "metadata": {},
     "output_type": "execute_result"
    }
   ],
   "source": [
    "# removing unecessary columns not needed for analysis\n",
    "data = data.drop(['baseRentRange','livingSpaceRange','cityName','cityDistrict','yearConstructedRange','lat','lon'], axis=1)\n",
    "data = data.rename(columns={'geo_plz_2': 'cityCode', 'cityName_mapped': 'cityName'})\n",
    "data['cityCode'] = data['cityCode'].astype('string')\n",
    "data.columns\n"
   ]
  },
  {
   "cell_type": "markdown",
   "metadata": {},
   "source": [
    "## 5 Export cleaned data"
   ]
  },
  {
   "cell_type": "code",
   "execution_count": 124,
   "metadata": {},
   "outputs": [],
   "source": [
    "def export_dataframe(dataframe, file_name):\n",
    "    # defining base dir\n",
    "    base_dir = os.getcwd()\n",
    "    \n",
    "    # Construct the path to the Data directory\n",
    "    data_dir = os.path.join(base_dir, '..', 'Data')\n",
    "\n",
    "    # Ensure the directory exists\n",
    "    os.makedirs(data_dir, exist_ok=True)\n",
    "    \n",
    "    # Create the full file path\n",
    "    file_path = os.path.join(data_dir, file_name)\n",
    "    \n",
    "    # Export the dataframe to CSV\n",
    "    dataframe.to_csv(file_path, index=False)\n",
    "    \n",
    "    print(f\"DataFrame exported to: {file_path}\")\n"
   ]
  },
  {
   "cell_type": "code",
   "execution_count": 125,
   "metadata": {},
   "outputs": [
    {
     "name": "stdout",
     "output_type": "stream",
     "text": [
      "DataFrame exported to: /Users/sudhirjoon/Library/Mobile Documents/com~apple~CloudDocs/Uni_Mannheim/Sem2/data_visualisation/Joon_project/Notebooks/../Data/cleaned_data.csv\n"
     ]
    }
   ],
   "source": [
    "export_dataframe(data, 'cleaned_data.csv')"
   ]
  },
  {
   "cell_type": "code",
   "execution_count": null,
   "metadata": {},
   "outputs": [],
   "source": []
  }
 ],
 "metadata": {
  "kernelspec": {
   "display_name": "base",
   "language": "python",
   "name": "python3"
  },
  "language_info": {
   "codemirror_mode": {
    "name": "ipython",
    "version": 3
   },
   "file_extension": ".py",
   "mimetype": "text/x-python",
   "name": "python",
   "nbconvert_exporter": "python",
   "pygments_lexer": "ipython3",
   "version": "3.12.8"
  }
 },
 "nbformat": 4,
 "nbformat_minor": 2
}
